{
 "cells": [
  {
   "cell_type": "code",
   "execution_count": 1,
   "id": "582c7967",
   "metadata": {},
   "outputs": [],
   "source": [
    "#Loading in the Required Libraries\n",
    "import pandas as pd\n",
    "import matplotlib.pyplot as plt\n",
    "import seaborn as sns\n",
    "import numpy as np"
   ]
  },
  {
   "cell_type": "markdown",
   "id": "3d99b81e",
   "metadata": {
    "slideshow": {
     "slide_type": "slide"
    }
   },
   "source": [
    "#### Reading in the Data"
   ]
  },
  {
   "cell_type": "code",
   "execution_count": 2,
   "id": "273b223f",
   "metadata": {
    "slideshow": {
     "slide_type": "skip"
    }
   },
   "outputs": [],
   "source": [
    "business_table = pd.read_csv(\"Businesses table (1) (1).csv\")"
   ]
  },
  {
   "cell_type": "code",
   "execution_count": 3,
   "id": "8257e926",
   "metadata": {
    "slideshow": {
     "slide_type": "skip"
    }
   },
   "outputs": [
    {
     "data": {
      "text/html": [
       "<div>\n",
       "<style scoped>\n",
       "    .dataframe tbody tr th:only-of-type {\n",
       "        vertical-align: middle;\n",
       "    }\n",
       "\n",
       "    .dataframe tbody tr th {\n",
       "        vertical-align: top;\n",
       "    }\n",
       "\n",
       "    .dataframe thead th {\n",
       "        text-align: right;\n",
       "    }\n",
       "</style>\n",
       "<table border=\"1\" class=\"dataframe\">\n",
       "  <thead>\n",
       "    <tr style=\"text-align: right;\">\n",
       "      <th></th>\n",
       "      <th>business_uuid</th>\n",
       "      <th>date_won</th>\n",
       "      <th>city</th>\n",
       "      <th>business_type</th>\n",
       "      <th>sub_group</th>\n",
       "      <th>partner_pos</th>\n",
       "    </tr>\n",
       "  </thead>\n",
       "  <tbody>\n",
       "    <tr>\n",
       "      <th>0</th>\n",
       "      <td>1441080511293-5ce45dcd-b3ce-4dd9-9e6d-4047a667...</td>\n",
       "      <td>9/17/2015</td>\n",
       "      <td>Cape Town</td>\n",
       "      <td>sole_proprietor</td>\n",
       "      <td>Retail</td>\n",
       "      <td>0</td>\n",
       "    </tr>\n",
       "    <tr>\n",
       "      <th>1</th>\n",
       "      <td>1443451760034-b317d70b-47b3-44cc-8238-bc93474e...</td>\n",
       "      <td>9/28/2015</td>\n",
       "      <td>Randburg</td>\n",
       "      <td>sole_proprietor</td>\n",
       "      <td>Food, Drink &amp; Hospitality</td>\n",
       "      <td>0</td>\n",
       "    </tr>\n",
       "    <tr>\n",
       "      <th>2</th>\n",
       "      <td>1446269527540-68231650-1320-4ff9-943f-28412f8b...</td>\n",
       "      <td>11/6/2015</td>\n",
       "      <td>Cape Town</td>\n",
       "      <td>sole_proprietor</td>\n",
       "      <td>Retail</td>\n",
       "      <td>0</td>\n",
       "    </tr>\n",
       "    <tr>\n",
       "      <th>3</th>\n",
       "      <td>1446732341500-16b51c71-bf68-428d-a198-b63a8a97...</td>\n",
       "      <td>11/12/2015</td>\n",
       "      <td>Cape Town</td>\n",
       "      <td>sole_proprietor</td>\n",
       "      <td>Retail</td>\n",
       "      <td>0</td>\n",
       "    </tr>\n",
       "    <tr>\n",
       "      <th>4</th>\n",
       "      <td>1407937721690-22878388-e481-46cb-8384-5dea1658...</td>\n",
       "      <td>1/14/2015</td>\n",
       "      <td>Cape Town</td>\n",
       "      <td>NaN</td>\n",
       "      <td>Food, drink and hospitality</td>\n",
       "      <td>0</td>\n",
       "    </tr>\n",
       "  </tbody>\n",
       "</table>\n",
       "</div>"
      ],
      "text/plain": [
       "                                       business_uuid    date_won       city  \\\n",
       "0  1441080511293-5ce45dcd-b3ce-4dd9-9e6d-4047a667...   9/17/2015  Cape Town   \n",
       "1  1443451760034-b317d70b-47b3-44cc-8238-bc93474e...   9/28/2015   Randburg   \n",
       "2  1446269527540-68231650-1320-4ff9-943f-28412f8b...   11/6/2015  Cape Town   \n",
       "3  1446732341500-16b51c71-bf68-428d-a198-b63a8a97...  11/12/2015  Cape Town   \n",
       "4  1407937721690-22878388-e481-46cb-8384-5dea1658...   1/14/2015  Cape Town   \n",
       "\n",
       "     business_type                    sub_group  partner_pos  \n",
       "0  sole_proprietor                       Retail            0  \n",
       "1  sole_proprietor    Food, Drink & Hospitality            0  \n",
       "2  sole_proprietor                       Retail            0  \n",
       "3  sole_proprietor                       Retail            0  \n",
       "4              NaN  Food, drink and hospitality            0  "
      ]
     },
     "execution_count": 3,
     "metadata": {},
     "output_type": "execute_result"
    }
   ],
   "source": [
    "business_table.head()"
   ]
  },
  {
   "cell_type": "code",
   "execution_count": 4,
   "id": "8d3c4575",
   "metadata": {
    "slideshow": {
     "slide_type": "skip"
    }
   },
   "outputs": [
    {
     "data": {
      "text/plain": [
       "(722, 6)"
      ]
     },
     "execution_count": 4,
     "metadata": {},
     "output_type": "execute_result"
    }
   ],
   "source": [
    "business_table.shape"
   ]
  },
  {
   "cell_type": "code",
   "execution_count": 5,
   "id": "89df653f",
   "metadata": {
    "slideshow": {
     "slide_type": "skip"
    }
   },
   "outputs": [
    {
     "name": "stdout",
     "output_type": "stream",
     "text": [
      "<class 'pandas.core.frame.DataFrame'>\n",
      "RangeIndex: 722 entries, 0 to 721\n",
      "Data columns (total 6 columns):\n",
      " #   Column         Non-Null Count  Dtype \n",
      "---  ------         --------------  ----- \n",
      " 0   business_uuid  722 non-null    object\n",
      " 1   date_won       722 non-null    object\n",
      " 2   city           719 non-null    object\n",
      " 3   business_type  698 non-null    object\n",
      " 4   sub_group      722 non-null    object\n",
      " 5   partner_pos    722 non-null    int64 \n",
      "dtypes: int64(1), object(5)\n",
      "memory usage: 34.0+ KB\n"
     ]
    }
   ],
   "source": [
    "business_table.info()"
   ]
  },
  {
   "cell_type": "code",
   "execution_count": 6,
   "id": "c91c4fd3",
   "metadata": {
    "slideshow": {
     "slide_type": "skip"
    }
   },
   "outputs": [],
   "source": [
    "transaction_subset = pd.read_csv(\"transaction_subset (1) (1).csv\")"
   ]
  },
  {
   "cell_type": "code",
   "execution_count": 7,
   "id": "706ae916",
   "metadata": {},
   "outputs": [
    {
     "data": {
      "text/html": [
       "<div>\n",
       "<style scoped>\n",
       "    .dataframe tbody tr th:only-of-type {\n",
       "        vertical-align: middle;\n",
       "    }\n",
       "\n",
       "    .dataframe tbody tr th {\n",
       "        vertical-align: top;\n",
       "    }\n",
       "\n",
       "    .dataframe thead th {\n",
       "        text-align: right;\n",
       "    }\n",
       "</style>\n",
       "<table border=\"1\" class=\"dataframe\">\n",
       "  <thead>\n",
       "    <tr style=\"text-align: right;\">\n",
       "      <th></th>\n",
       "      <th>transaction_uuid</th>\n",
       "      <th>business_uuid</th>\n",
       "      <th>created</th>\n",
       "      <th>transaction_type</th>\n",
       "      <th>amount_usd</th>\n",
       "      <th>transaction_state</th>\n",
       "      <th>processing_time</th>\n",
       "      <th>phone_type</th>\n",
       "      <th>reader_type</th>\n",
       "      <th>connection_type</th>\n",
       "    </tr>\n",
       "  </thead>\n",
       "  <tbody>\n",
       "    <tr>\n",
       "      <th>0</th>\n",
       "      <td>1424437465609-285a18be-f2fa-4d4c-a2ef-3bef9f3e...</td>\n",
       "      <td>1409234980651-de3fff31-3d87-47e4-bb1a-12beafcd...</td>\n",
       "      <td>2015-02-20 13:04:25.607+00</td>\n",
       "      <td>credit_card</td>\n",
       "      <td>60.0</td>\n",
       "      <td>approved</td>\n",
       "      <td>18.68068</td>\n",
       "      <td>NaN</td>\n",
       "      <td>NaN</td>\n",
       "      <td>NaN</td>\n",
       "    </tr>\n",
       "    <tr>\n",
       "      <th>1</th>\n",
       "      <td>1444994656054-91a37566-c9ce-435a-ae8f-5f9aeb27...</td>\n",
       "      <td>1431433133107-089d14c3-5435-4b33-9973-70e2c0ff...</td>\n",
       "      <td>2015-10-16 11:24:16.052+00</td>\n",
       "      <td>credit_card</td>\n",
       "      <td>220.0</td>\n",
       "      <td>approved</td>\n",
       "      <td>16.37625</td>\n",
       "      <td>ios</td>\n",
       "      <td>E105</td>\n",
       "      <td>WiFi</td>\n",
       "    </tr>\n",
       "    <tr>\n",
       "      <th>2</th>\n",
       "      <td>1451311977458-d794c535-d696-4830-b4b6-93c52ca5...</td>\n",
       "      <td>1442575726431-a066cad9-8f66-45da-abd8-165ce0a7...</td>\n",
       "      <td>2015-12-28 14:12:57.455+00</td>\n",
       "      <td>credit_card</td>\n",
       "      <td>90.0</td>\n",
       "      <td>approved</td>\n",
       "      <td>13.51605</td>\n",
       "      <td>ios</td>\n",
       "      <td>E105</td>\n",
       "      <td>WiFi</td>\n",
       "    </tr>\n",
       "    <tr>\n",
       "      <th>3</th>\n",
       "      <td>1444763353752-bac376b0-80d9-46f5-9e21-9def71ee...</td>\n",
       "      <td>1436133508444-8d874705-6448-4d8d-88e0-5b0f8f4c...</td>\n",
       "      <td>2015-10-13 19:09:13.75+00</td>\n",
       "      <td>credit_card</td>\n",
       "      <td>135.0</td>\n",
       "      <td>approved</td>\n",
       "      <td>15.06118</td>\n",
       "      <td>ios</td>\n",
       "      <td>M010</td>\n",
       "      <td>WiFi</td>\n",
       "    </tr>\n",
       "    <tr>\n",
       "      <th>4</th>\n",
       "      <td>1449883535047-1a9e1d5e-6151-4593-86db-bf504ab7...</td>\n",
       "      <td>1436123092750-68fb87cc-d43b-4468-9137-2841db30...</td>\n",
       "      <td>2015-12-12 01:25:35.047+00</td>\n",
       "      <td>credit_card</td>\n",
       "      <td>162.0</td>\n",
       "      <td>approved</td>\n",
       "      <td>14.81583</td>\n",
       "      <td>ios</td>\n",
       "      <td>M010</td>\n",
       "      <td>WiFi</td>\n",
       "    </tr>\n",
       "  </tbody>\n",
       "</table>\n",
       "</div>"
      ],
      "text/plain": [
       "                                    transaction_uuid  \\\n",
       "0  1424437465609-285a18be-f2fa-4d4c-a2ef-3bef9f3e...   \n",
       "1  1444994656054-91a37566-c9ce-435a-ae8f-5f9aeb27...   \n",
       "2  1451311977458-d794c535-d696-4830-b4b6-93c52ca5...   \n",
       "3  1444763353752-bac376b0-80d9-46f5-9e21-9def71ee...   \n",
       "4  1449883535047-1a9e1d5e-6151-4593-86db-bf504ab7...   \n",
       "\n",
       "                                       business_uuid  \\\n",
       "0  1409234980651-de3fff31-3d87-47e4-bb1a-12beafcd...   \n",
       "1  1431433133107-089d14c3-5435-4b33-9973-70e2c0ff...   \n",
       "2  1442575726431-a066cad9-8f66-45da-abd8-165ce0a7...   \n",
       "3  1436133508444-8d874705-6448-4d8d-88e0-5b0f8f4c...   \n",
       "4  1436123092750-68fb87cc-d43b-4468-9137-2841db30...   \n",
       "\n",
       "                      created transaction_type  amount_usd transaction_state  \\\n",
       "0  2015-02-20 13:04:25.607+00      credit_card        60.0          approved   \n",
       "1  2015-10-16 11:24:16.052+00      credit_card       220.0          approved   \n",
       "2  2015-12-28 14:12:57.455+00      credit_card        90.0          approved   \n",
       "3   2015-10-13 19:09:13.75+00      credit_card       135.0          approved   \n",
       "4  2015-12-12 01:25:35.047+00      credit_card       162.0          approved   \n",
       "\n",
       "   processing_time phone_type reader_type connection_type  \n",
       "0         18.68068        NaN         NaN             NaN  \n",
       "1         16.37625        ios        E105            WiFi  \n",
       "2         13.51605        ios        E105            WiFi  \n",
       "3         15.06118        ios        M010            WiFi  \n",
       "4         14.81583        ios        M010            WiFi  "
      ]
     },
     "execution_count": 7,
     "metadata": {},
     "output_type": "execute_result"
    }
   ],
   "source": [
    "transaction_subset.head()"
   ]
  },
  {
   "cell_type": "code",
   "execution_count": 8,
   "id": "9eefc457",
   "metadata": {},
   "outputs": [
    {
     "data": {
      "text/plain": [
       "(15391, 10)"
      ]
     },
     "execution_count": 8,
     "metadata": {},
     "output_type": "execute_result"
    }
   ],
   "source": [
    "transaction_subset.shape"
   ]
  },
  {
   "cell_type": "code",
   "execution_count": 9,
   "id": "7990ef09",
   "metadata": {},
   "outputs": [
    {
     "name": "stdout",
     "output_type": "stream",
     "text": [
      "<class 'pandas.core.frame.DataFrame'>\n",
      "RangeIndex: 15391 entries, 0 to 15390\n",
      "Data columns (total 10 columns):\n",
      " #   Column             Non-Null Count  Dtype  \n",
      "---  ------             --------------  -----  \n",
      " 0   transaction_uuid   15391 non-null  object \n",
      " 1   business_uuid      15390 non-null  object \n",
      " 2   created            15390 non-null  object \n",
      " 3   transaction_type   15390 non-null  object \n",
      " 4   amount_usd         15390 non-null  float64\n",
      " 5   transaction_state  15390 non-null  object \n",
      " 6   processing_time    13749 non-null  float64\n",
      " 7   phone_type         10851 non-null  object \n",
      " 8   reader_type        9526 non-null   object \n",
      " 9   connection_type    9373 non-null   object \n",
      "dtypes: float64(2), object(8)\n",
      "memory usage: 1.2+ MB\n"
     ]
    }
   ],
   "source": [
    "transaction_subset.info()"
   ]
  },
  {
   "cell_type": "markdown",
   "id": "32887d2b",
   "metadata": {
    "slideshow": {
     "slide_type": "slide"
    }
   },
   "source": [
    "### Cleaning the Data"
   ]
  },
  {
   "cell_type": "markdown",
   "id": "aba865d2",
   "metadata": {
    "slideshow": {
     "slide_type": "subslide"
    }
   },
   "source": [
    "#### Issues\n",
    "`business_table`\n",
    "1. Convert the date_won column to a datetime object\n",
    "2. The Food, Drink and hospitality in Business_type should be changed to \"Food, Drink and Hospitality\"\n",
    "\n",
    "`transaction_subset`\n",
    "\n",
    "1. Missing values in Processing time\n",
    "2. Drop unnecessary columns for this dataset: phone_type,reader_type,connection_type\n",
    "3. Convert  created column to a datetime object."
   ]
  },
  {
   "cell_type": "code",
   "execution_count": 10,
   "id": "5c1f8127",
   "metadata": {},
   "outputs": [
    {
     "data": {
      "text/plain": [
       "Food, drink and hospitality       238\n",
       "Retail                            171\n",
       "Healthcare, beauty and fitness     67\n",
       "Professional services              62\n",
       "Home and repair                    62\n",
       "Leisure and entertainment          37\n",
       "Travel and tourism                 34\n",
       "Online                             33\n",
       "Personal services                   7\n",
       "Food, Drink & Hospitality           6\n",
       "Transportation                      5\n",
       "Name: sub_group, dtype: int64"
      ]
     },
     "execution_count": 10,
     "metadata": {},
     "output_type": "execute_result"
    }
   ],
   "source": [
    "business_table['sub_group'].value_counts()"
   ]
  },
  {
   "cell_type": "code",
   "execution_count": 11,
   "id": "a4e42116",
   "metadata": {},
   "outputs": [
    {
     "data": {
      "text/plain": [
       "Food, Drink & Hospitality         244\n",
       "Retail                            171\n",
       "Healthcare, beauty and fitness     67\n",
       "Professional services              62\n",
       "Home and repair                    62\n",
       "Leisure and entertainment          37\n",
       "Travel and tourism                 34\n",
       "Online                             33\n",
       "Personal services                   7\n",
       "Transportation                      5\n",
       "Name: sub_group, dtype: int64"
      ]
     },
     "execution_count": 11,
     "metadata": {},
     "output_type": "execute_result"
    }
   ],
   "source": [
    "#Replace food,drink and hospitality with \" Food,Drink & Hospitality\"\n",
    "business_table['sub_group'] = business_table['sub_group'].replace(\n",
    "    {\"Food, drink and hospitality\":\"Food, Drink & Hospitality\"})\n",
    "\n",
    "business_table['sub_group'].value_counts()"
   ]
  },
  {
   "cell_type": "code",
   "execution_count": 12,
   "id": "fdf4c650",
   "metadata": {},
   "outputs": [],
   "source": [
    "#Converting the date_won column to a datetime object\n",
    "business_table['date_won'] = pd.to_datetime(business_table['date_won'])"
   ]
  },
  {
   "cell_type": "code",
   "execution_count": 13,
   "id": "3db51494",
   "metadata": {},
   "outputs": [
    {
     "name": "stdout",
     "output_type": "stream",
     "text": [
      "<class 'pandas.core.frame.DataFrame'>\n",
      "RangeIndex: 722 entries, 0 to 721\n",
      "Data columns (total 6 columns):\n",
      " #   Column         Non-Null Count  Dtype         \n",
      "---  ------         --------------  -----         \n",
      " 0   business_uuid  722 non-null    object        \n",
      " 1   date_won       722 non-null    datetime64[ns]\n",
      " 2   city           719 non-null    object        \n",
      " 3   business_type  698 non-null    object        \n",
      " 4   sub_group      722 non-null    object        \n",
      " 5   partner_pos    722 non-null    int64         \n",
      "dtypes: datetime64[ns](1), int64(1), object(4)\n",
      "memory usage: 34.0+ KB\n"
     ]
    }
   ],
   "source": [
    "business_table.info()"
   ]
  },
  {
   "cell_type": "code",
   "execution_count": 14,
   "id": "94b417f6",
   "metadata": {},
   "outputs": [],
   "source": [
    "#Dropping the Unnecessary columns in the transaction_subset\n",
    "transaction_subset.drop(['phone_type','reader_type','connection_type'],axis=1,inplace=True)"
   ]
  },
  {
   "cell_type": "code",
   "execution_count": 15,
   "id": "3cb89e5c",
   "metadata": {},
   "outputs": [],
   "source": [
    "#Converting the Created column to a datetime object\n",
    "transaction_subset['created'] = pd.to_datetime(transaction_subset['created'])\n",
    "\n"
   ]
  },
  {
   "cell_type": "code",
   "execution_count": 16,
   "id": "a23855bc",
   "metadata": {},
   "outputs": [
    {
     "data": {
      "text/html": [
       "<div>\n",
       "<style scoped>\n",
       "    .dataframe tbody tr th:only-of-type {\n",
       "        vertical-align: middle;\n",
       "    }\n",
       "\n",
       "    .dataframe tbody tr th {\n",
       "        vertical-align: top;\n",
       "    }\n",
       "\n",
       "    .dataframe thead th {\n",
       "        text-align: right;\n",
       "    }\n",
       "</style>\n",
       "<table border=\"1\" class=\"dataframe\">\n",
       "  <thead>\n",
       "    <tr style=\"text-align: right;\">\n",
       "      <th></th>\n",
       "      <th>transaction_uuid</th>\n",
       "      <th>business_uuid</th>\n",
       "      <th>created</th>\n",
       "      <th>transaction_type</th>\n",
       "      <th>amount_usd</th>\n",
       "      <th>transaction_state</th>\n",
       "      <th>processing_time</th>\n",
       "    </tr>\n",
       "  </thead>\n",
       "  <tbody>\n",
       "    <tr>\n",
       "      <th>0</th>\n",
       "      <td>1424437465609-285a18be-f2fa-4d4c-a2ef-3bef9f3e...</td>\n",
       "      <td>1409234980651-de3fff31-3d87-47e4-bb1a-12beafcd...</td>\n",
       "      <td>2015-02-20 13:04:25.607000+00:00</td>\n",
       "      <td>credit_card</td>\n",
       "      <td>60.0</td>\n",
       "      <td>approved</td>\n",
       "      <td>18.68068</td>\n",
       "    </tr>\n",
       "    <tr>\n",
       "      <th>1</th>\n",
       "      <td>1444994656054-91a37566-c9ce-435a-ae8f-5f9aeb27...</td>\n",
       "      <td>1431433133107-089d14c3-5435-4b33-9973-70e2c0ff...</td>\n",
       "      <td>2015-10-16 11:24:16.052000+00:00</td>\n",
       "      <td>credit_card</td>\n",
       "      <td>220.0</td>\n",
       "      <td>approved</td>\n",
       "      <td>16.37625</td>\n",
       "    </tr>\n",
       "    <tr>\n",
       "      <th>2</th>\n",
       "      <td>1451311977458-d794c535-d696-4830-b4b6-93c52ca5...</td>\n",
       "      <td>1442575726431-a066cad9-8f66-45da-abd8-165ce0a7...</td>\n",
       "      <td>2015-12-28 14:12:57.455000+00:00</td>\n",
       "      <td>credit_card</td>\n",
       "      <td>90.0</td>\n",
       "      <td>approved</td>\n",
       "      <td>13.51605</td>\n",
       "    </tr>\n",
       "    <tr>\n",
       "      <th>3</th>\n",
       "      <td>1444763353752-bac376b0-80d9-46f5-9e21-9def71ee...</td>\n",
       "      <td>1436133508444-8d874705-6448-4d8d-88e0-5b0f8f4c...</td>\n",
       "      <td>2015-10-13 19:09:13.750000+00:00</td>\n",
       "      <td>credit_card</td>\n",
       "      <td>135.0</td>\n",
       "      <td>approved</td>\n",
       "      <td>15.06118</td>\n",
       "    </tr>\n",
       "    <tr>\n",
       "      <th>4</th>\n",
       "      <td>1449883535047-1a9e1d5e-6151-4593-86db-bf504ab7...</td>\n",
       "      <td>1436123092750-68fb87cc-d43b-4468-9137-2841db30...</td>\n",
       "      <td>2015-12-12 01:25:35.047000+00:00</td>\n",
       "      <td>credit_card</td>\n",
       "      <td>162.0</td>\n",
       "      <td>approved</td>\n",
       "      <td>14.81583</td>\n",
       "    </tr>\n",
       "  </tbody>\n",
       "</table>\n",
       "</div>"
      ],
      "text/plain": [
       "                                    transaction_uuid  \\\n",
       "0  1424437465609-285a18be-f2fa-4d4c-a2ef-3bef9f3e...   \n",
       "1  1444994656054-91a37566-c9ce-435a-ae8f-5f9aeb27...   \n",
       "2  1451311977458-d794c535-d696-4830-b4b6-93c52ca5...   \n",
       "3  1444763353752-bac376b0-80d9-46f5-9e21-9def71ee...   \n",
       "4  1449883535047-1a9e1d5e-6151-4593-86db-bf504ab7...   \n",
       "\n",
       "                                       business_uuid  \\\n",
       "0  1409234980651-de3fff31-3d87-47e4-bb1a-12beafcd...   \n",
       "1  1431433133107-089d14c3-5435-4b33-9973-70e2c0ff...   \n",
       "2  1442575726431-a066cad9-8f66-45da-abd8-165ce0a7...   \n",
       "3  1436133508444-8d874705-6448-4d8d-88e0-5b0f8f4c...   \n",
       "4  1436123092750-68fb87cc-d43b-4468-9137-2841db30...   \n",
       "\n",
       "                           created transaction_type  amount_usd  \\\n",
       "0 2015-02-20 13:04:25.607000+00:00      credit_card        60.0   \n",
       "1 2015-10-16 11:24:16.052000+00:00      credit_card       220.0   \n",
       "2 2015-12-28 14:12:57.455000+00:00      credit_card        90.0   \n",
       "3 2015-10-13 19:09:13.750000+00:00      credit_card       135.0   \n",
       "4 2015-12-12 01:25:35.047000+00:00      credit_card       162.0   \n",
       "\n",
       "  transaction_state  processing_time  \n",
       "0          approved         18.68068  \n",
       "1          approved         16.37625  \n",
       "2          approved         13.51605  \n",
       "3          approved         15.06118  \n",
       "4          approved         14.81583  "
      ]
     },
     "execution_count": 16,
     "metadata": {},
     "output_type": "execute_result"
    }
   ],
   "source": [
    "transaction_subset.head()"
   ]
  },
  {
   "cell_type": "code",
   "execution_count": 17,
   "id": "d6c397e9",
   "metadata": {},
   "outputs": [],
   "source": [
    "#Extracting the transaction date from the Created Timestamp\n",
    "transaction_subset['trans_date'] = transaction_subset.created.dt.date\n",
    "\n",
    "transaction_subset['trans_date'] = pd.to_datetime(transaction_subset['trans_date'])"
   ]
  },
  {
   "cell_type": "code",
   "execution_count": 18,
   "id": "56d3528a",
   "metadata": {},
   "outputs": [
    {
     "data": {
      "text/html": [
       "<div>\n",
       "<style scoped>\n",
       "    .dataframe tbody tr th:only-of-type {\n",
       "        vertical-align: middle;\n",
       "    }\n",
       "\n",
       "    .dataframe tbody tr th {\n",
       "        vertical-align: top;\n",
       "    }\n",
       "\n",
       "    .dataframe thead th {\n",
       "        text-align: right;\n",
       "    }\n",
       "</style>\n",
       "<table border=\"1\" class=\"dataframe\">\n",
       "  <thead>\n",
       "    <tr style=\"text-align: right;\">\n",
       "      <th></th>\n",
       "      <th>transaction_uuid</th>\n",
       "      <th>business_uuid</th>\n",
       "      <th>created</th>\n",
       "      <th>transaction_type</th>\n",
       "      <th>amount_usd</th>\n",
       "      <th>transaction_state</th>\n",
       "      <th>processing_time</th>\n",
       "      <th>trans_date</th>\n",
       "    </tr>\n",
       "  </thead>\n",
       "  <tbody>\n",
       "    <tr>\n",
       "      <th>0</th>\n",
       "      <td>1424437465609-285a18be-f2fa-4d4c-a2ef-3bef9f3e...</td>\n",
       "      <td>1409234980651-de3fff31-3d87-47e4-bb1a-12beafcd...</td>\n",
       "      <td>2015-02-20 13:04:25.607000+00:00</td>\n",
       "      <td>credit_card</td>\n",
       "      <td>60.0</td>\n",
       "      <td>approved</td>\n",
       "      <td>18.680680</td>\n",
       "      <td>2015-02-20</td>\n",
       "    </tr>\n",
       "    <tr>\n",
       "      <th>1</th>\n",
       "      <td>1444994656054-91a37566-c9ce-435a-ae8f-5f9aeb27...</td>\n",
       "      <td>1431433133107-089d14c3-5435-4b33-9973-70e2c0ff...</td>\n",
       "      <td>2015-10-16 11:24:16.052000+00:00</td>\n",
       "      <td>credit_card</td>\n",
       "      <td>220.0</td>\n",
       "      <td>approved</td>\n",
       "      <td>16.376250</td>\n",
       "      <td>2015-10-16</td>\n",
       "    </tr>\n",
       "    <tr>\n",
       "      <th>2</th>\n",
       "      <td>1451311977458-d794c535-d696-4830-b4b6-93c52ca5...</td>\n",
       "      <td>1442575726431-a066cad9-8f66-45da-abd8-165ce0a7...</td>\n",
       "      <td>2015-12-28 14:12:57.455000+00:00</td>\n",
       "      <td>credit_card</td>\n",
       "      <td>90.0</td>\n",
       "      <td>approved</td>\n",
       "      <td>13.516050</td>\n",
       "      <td>2015-12-28</td>\n",
       "    </tr>\n",
       "    <tr>\n",
       "      <th>3</th>\n",
       "      <td>1444763353752-bac376b0-80d9-46f5-9e21-9def71ee...</td>\n",
       "      <td>1436133508444-8d874705-6448-4d8d-88e0-5b0f8f4c...</td>\n",
       "      <td>2015-10-13 19:09:13.750000+00:00</td>\n",
       "      <td>credit_card</td>\n",
       "      <td>135.0</td>\n",
       "      <td>approved</td>\n",
       "      <td>15.061180</td>\n",
       "      <td>2015-10-13</td>\n",
       "    </tr>\n",
       "    <tr>\n",
       "      <th>4</th>\n",
       "      <td>1449883535047-1a9e1d5e-6151-4593-86db-bf504ab7...</td>\n",
       "      <td>1436123092750-68fb87cc-d43b-4468-9137-2841db30...</td>\n",
       "      <td>2015-12-12 01:25:35.047000+00:00</td>\n",
       "      <td>credit_card</td>\n",
       "      <td>162.0</td>\n",
       "      <td>approved</td>\n",
       "      <td>14.815830</td>\n",
       "      <td>2015-12-12</td>\n",
       "    </tr>\n",
       "    <tr>\n",
       "      <th>...</th>\n",
       "      <td>...</td>\n",
       "      <td>...</td>\n",
       "      <td>...</td>\n",
       "      <td>...</td>\n",
       "      <td>...</td>\n",
       "      <td>...</td>\n",
       "      <td>...</td>\n",
       "      <td>...</td>\n",
       "    </tr>\n",
       "    <tr>\n",
       "      <th>15386</th>\n",
       "      <td>1434115552770-617cb55e-c974-4e67-90cc-3049d881...</td>\n",
       "      <td>1431433133107-089d14c3-5435-4b33-9973-70e2c0ff...</td>\n",
       "      <td>2015-06-12 13:25:52.768000+00:00</td>\n",
       "      <td>credit_card</td>\n",
       "      <td>170.0</td>\n",
       "      <td>approved</td>\n",
       "      <td>15.617570</td>\n",
       "      <td>2015-06-12</td>\n",
       "    </tr>\n",
       "    <tr>\n",
       "      <th>15387</th>\n",
       "      <td>1435408952457-a920b6d0-e627-410e-9ead-0a5cb32b...</td>\n",
       "      <td>1429030235172-cd21ab3c-c47c-4f9a-b1fa-683c8ec5...</td>\n",
       "      <td>2015-06-27 12:42:32.455000+00:00</td>\n",
       "      <td>credit_card</td>\n",
       "      <td>65.0</td>\n",
       "      <td>approved</td>\n",
       "      <td>14.086480</td>\n",
       "      <td>2015-06-27</td>\n",
       "    </tr>\n",
       "    <tr>\n",
       "      <th>15388</th>\n",
       "      <td>1447598900808-309890b1-020c-40b3-9484-31226ca2...</td>\n",
       "      <td>1443507623766-d7a7dd32-ca88-45ac-8533-bca483b5...</td>\n",
       "      <td>2015-11-15 14:48:20.807000+00:00</td>\n",
       "      <td>credit_card</td>\n",
       "      <td>350.0</td>\n",
       "      <td>approved</td>\n",
       "      <td>6.482815</td>\n",
       "      <td>2015-11-15</td>\n",
       "    </tr>\n",
       "    <tr>\n",
       "      <th>15389</th>\n",
       "      <td>1447677754844-1e2560d5-24ec-4cae-8a43-d8a2a577...</td>\n",
       "      <td>1444976393870-0a898070-6802-4e0d-9dbd-16b2e03e...</td>\n",
       "      <td>2015-11-16 12:42:32.763000+00:00</td>\n",
       "      <td>cash</td>\n",
       "      <td>75.0</td>\n",
       "      <td>approved</td>\n",
       "      <td>NaN</td>\n",
       "      <td>2015-11-16</td>\n",
       "    </tr>\n",
       "    <tr>\n",
       "      <th>15390</th>\n",
       "      <td>1431768065391-cd1de</td>\n",
       "      <td>NaN</td>\n",
       "      <td>NaT</td>\n",
       "      <td>NaN</td>\n",
       "      <td>NaN</td>\n",
       "      <td>NaN</td>\n",
       "      <td>NaN</td>\n",
       "      <td>NaT</td>\n",
       "    </tr>\n",
       "  </tbody>\n",
       "</table>\n",
       "<p>15391 rows × 8 columns</p>\n",
       "</div>"
      ],
      "text/plain": [
       "                                        transaction_uuid  \\\n",
       "0      1424437465609-285a18be-f2fa-4d4c-a2ef-3bef9f3e...   \n",
       "1      1444994656054-91a37566-c9ce-435a-ae8f-5f9aeb27...   \n",
       "2      1451311977458-d794c535-d696-4830-b4b6-93c52ca5...   \n",
       "3      1444763353752-bac376b0-80d9-46f5-9e21-9def71ee...   \n",
       "4      1449883535047-1a9e1d5e-6151-4593-86db-bf504ab7...   \n",
       "...                                                  ...   \n",
       "15386  1434115552770-617cb55e-c974-4e67-90cc-3049d881...   \n",
       "15387  1435408952457-a920b6d0-e627-410e-9ead-0a5cb32b...   \n",
       "15388  1447598900808-309890b1-020c-40b3-9484-31226ca2...   \n",
       "15389  1447677754844-1e2560d5-24ec-4cae-8a43-d8a2a577...   \n",
       "15390                                1431768065391-cd1de   \n",
       "\n",
       "                                           business_uuid  \\\n",
       "0      1409234980651-de3fff31-3d87-47e4-bb1a-12beafcd...   \n",
       "1      1431433133107-089d14c3-5435-4b33-9973-70e2c0ff...   \n",
       "2      1442575726431-a066cad9-8f66-45da-abd8-165ce0a7...   \n",
       "3      1436133508444-8d874705-6448-4d8d-88e0-5b0f8f4c...   \n",
       "4      1436123092750-68fb87cc-d43b-4468-9137-2841db30...   \n",
       "...                                                  ...   \n",
       "15386  1431433133107-089d14c3-5435-4b33-9973-70e2c0ff...   \n",
       "15387  1429030235172-cd21ab3c-c47c-4f9a-b1fa-683c8ec5...   \n",
       "15388  1443507623766-d7a7dd32-ca88-45ac-8533-bca483b5...   \n",
       "15389  1444976393870-0a898070-6802-4e0d-9dbd-16b2e03e...   \n",
       "15390                                                NaN   \n",
       "\n",
       "                               created transaction_type  amount_usd  \\\n",
       "0     2015-02-20 13:04:25.607000+00:00      credit_card        60.0   \n",
       "1     2015-10-16 11:24:16.052000+00:00      credit_card       220.0   \n",
       "2     2015-12-28 14:12:57.455000+00:00      credit_card        90.0   \n",
       "3     2015-10-13 19:09:13.750000+00:00      credit_card       135.0   \n",
       "4     2015-12-12 01:25:35.047000+00:00      credit_card       162.0   \n",
       "...                                ...              ...         ...   \n",
       "15386 2015-06-12 13:25:52.768000+00:00      credit_card       170.0   \n",
       "15387 2015-06-27 12:42:32.455000+00:00      credit_card        65.0   \n",
       "15388 2015-11-15 14:48:20.807000+00:00      credit_card       350.0   \n",
       "15389 2015-11-16 12:42:32.763000+00:00             cash        75.0   \n",
       "15390                              NaT              NaN         NaN   \n",
       "\n",
       "      transaction_state  processing_time trans_date  \n",
       "0              approved        18.680680 2015-02-20  \n",
       "1              approved        16.376250 2015-10-16  \n",
       "2              approved        13.516050 2015-12-28  \n",
       "3              approved        15.061180 2015-10-13  \n",
       "4              approved        14.815830 2015-12-12  \n",
       "...                 ...              ...        ...  \n",
       "15386          approved        15.617570 2015-06-12  \n",
       "15387          approved        14.086480 2015-06-27  \n",
       "15388          approved         6.482815 2015-11-15  \n",
       "15389          approved              NaN 2015-11-16  \n",
       "15390               NaN              NaN        NaT  \n",
       "\n",
       "[15391 rows x 8 columns]"
      ]
     },
     "execution_count": 18,
     "metadata": {},
     "output_type": "execute_result"
    }
   ],
   "source": [
    "transaction_subset"
   ]
  },
  {
   "cell_type": "code",
   "execution_count": 19,
   "id": "a9fd9e0d",
   "metadata": {},
   "outputs": [],
   "source": [
    "#Imputing misssing values in the processing_time column with the mean\n",
    "transaction_subset['processing_time'] = transaction_subset['processing_time'].fillna(transaction_subset['processing_time'].mean())"
   ]
  },
  {
   "cell_type": "code",
   "execution_count": 20,
   "id": "81a5b746",
   "metadata": {},
   "outputs": [],
   "source": [
    "#Dropping any row with missing business_uuid\n",
    "transaction_subset.dropna(subset=['business_uuid'],inplace=True)"
   ]
  },
  {
   "cell_type": "code",
   "execution_count": 21,
   "id": "0c5d6bed",
   "metadata": {},
   "outputs": [],
   "source": [
    "transaction_subset = transaction_subset.drop_duplicates(subset='transaction_uuid')"
   ]
  },
  {
   "cell_type": "code",
   "execution_count": 22,
   "id": "fa5a158e",
   "metadata": {},
   "outputs": [
    {
     "name": "stdout",
     "output_type": "stream",
     "text": [
      "<class 'pandas.core.frame.DataFrame'>\n",
      "Int64Index: 15389 entries, 0 to 15389\n",
      "Data columns (total 8 columns):\n",
      " #   Column             Non-Null Count  Dtype              \n",
      "---  ------             --------------  -----              \n",
      " 0   transaction_uuid   15389 non-null  object             \n",
      " 1   business_uuid      15389 non-null  object             \n",
      " 2   created            15389 non-null  datetime64[ns, UTC]\n",
      " 3   transaction_type   15389 non-null  object             \n",
      " 4   amount_usd         15389 non-null  float64            \n",
      " 5   transaction_state  15389 non-null  object             \n",
      " 6   processing_time    15389 non-null  float64            \n",
      " 7   trans_date         15389 non-null  datetime64[ns]     \n",
      "dtypes: datetime64[ns, UTC](1), datetime64[ns](1), float64(2), object(4)\n",
      "memory usage: 1.1+ MB\n"
     ]
    }
   ],
   "source": [
    "transaction_subset.info()"
   ]
  },
  {
   "cell_type": "markdown",
   "id": "4dc54c44",
   "metadata": {},
   "source": [
    "### Merging the business_table and transaction_subset dataframes\n",
    "\n",
    "A right merge is used as I would like to preserve all the transaction rows"
   ]
  },
  {
   "cell_type": "code",
   "execution_count": 23,
   "id": "31399606",
   "metadata": {},
   "outputs": [],
   "source": [
    "temp_merge = pd.merge(business_table,transaction_subset,left_on=\"business_uuid\",\n",
    "                      right_on=\"business_uuid\",how=\"right\")"
   ]
  },
  {
   "cell_type": "code",
   "execution_count": 24,
   "id": "9661cb52",
   "metadata": {},
   "outputs": [
    {
     "name": "stdout",
     "output_type": "stream",
     "text": [
      "<class 'pandas.core.frame.DataFrame'>\n",
      "Int64Index: 15542 entries, 0 to 15541\n",
      "Data columns (total 13 columns):\n",
      " #   Column             Non-Null Count  Dtype              \n",
      "---  ------             --------------  -----              \n",
      " 0   business_uuid      15542 non-null  object             \n",
      " 1   date_won           13819 non-null  datetime64[ns]     \n",
      " 2   city               13819 non-null  object             \n",
      " 3   business_type      13474 non-null  object             \n",
      " 4   sub_group          13819 non-null  object             \n",
      " 5   partner_pos        13819 non-null  float64            \n",
      " 6   transaction_uuid   15542 non-null  object             \n",
      " 7   created            15542 non-null  datetime64[ns, UTC]\n",
      " 8   transaction_type   15542 non-null  object             \n",
      " 9   amount_usd         15542 non-null  float64            \n",
      " 10  transaction_state  15542 non-null  object             \n",
      " 11  processing_time    15542 non-null  float64            \n",
      " 12  trans_date         15542 non-null  datetime64[ns]     \n",
      "dtypes: datetime64[ns, UTC](1), datetime64[ns](2), float64(3), object(7)\n",
      "memory usage: 1.7+ MB\n"
     ]
    }
   ],
   "source": [
    "temp_merge.info()"
   ]
  },
  {
   "cell_type": "code",
   "execution_count": 25,
   "id": "d113acba",
   "metadata": {},
   "outputs": [
    {
     "data": {
      "text/plain": [
       "(15542, 13)"
      ]
     },
     "execution_count": 25,
     "metadata": {},
     "output_type": "execute_result"
    }
   ],
   "source": [
    "temp_merge.shape"
   ]
  },
  {
   "cell_type": "code",
   "execution_count": 26,
   "id": "fe1eee45",
   "metadata": {},
   "outputs": [
    {
     "data": {
      "text/html": [
       "<div>\n",
       "<style scoped>\n",
       "    .dataframe tbody tr th:only-of-type {\n",
       "        vertical-align: middle;\n",
       "    }\n",
       "\n",
       "    .dataframe tbody tr th {\n",
       "        vertical-align: top;\n",
       "    }\n",
       "\n",
       "    .dataframe thead th {\n",
       "        text-align: right;\n",
       "    }\n",
       "</style>\n",
       "<table border=\"1\" class=\"dataframe\">\n",
       "  <thead>\n",
       "    <tr style=\"text-align: right;\">\n",
       "      <th></th>\n",
       "      <th>business_uuid</th>\n",
       "      <th>date_won</th>\n",
       "      <th>city</th>\n",
       "      <th>business_type</th>\n",
       "      <th>sub_group</th>\n",
       "      <th>partner_pos</th>\n",
       "      <th>transaction_uuid</th>\n",
       "      <th>created</th>\n",
       "      <th>transaction_type</th>\n",
       "      <th>amount_usd</th>\n",
       "      <th>transaction_state</th>\n",
       "      <th>processing_time</th>\n",
       "      <th>trans_date</th>\n",
       "    </tr>\n",
       "  </thead>\n",
       "  <tbody>\n",
       "    <tr>\n",
       "      <th>317</th>\n",
       "      <td>1429863923708-7d714c30-81e1-4188-807f-78adba31...</td>\n",
       "      <td>2015-06-10</td>\n",
       "      <td>Cape Town</td>\n",
       "      <td>sole_proprietor</td>\n",
       "      <td>Home and repair</td>\n",
       "      <td>1.0</td>\n",
       "      <td>1451038926187-8f585944-268f-44f2-99f8-05501cac...</td>\n",
       "      <td>2015-12-25 10:22:06.186000+00:00</td>\n",
       "      <td>credit_card</td>\n",
       "      <td>1.0</td>\n",
       "      <td>approved</td>\n",
       "      <td>28.255480</td>\n",
       "      <td>2015-12-25</td>\n",
       "    </tr>\n",
       "    <tr>\n",
       "      <th>426</th>\n",
       "      <td>1429863923708-7d714c30-81e1-4188-807f-78adba31...</td>\n",
       "      <td>2015-06-10</td>\n",
       "      <td>Cape Town</td>\n",
       "      <td>sole_proprietor</td>\n",
       "      <td>Home and repair</td>\n",
       "      <td>1.0</td>\n",
       "      <td>1448957685554-4abad856-096a-4f50-a43a-8f20df5c...</td>\n",
       "      <td>2015-12-01 08:14:45.554000+00:00</td>\n",
       "      <td>credit_card</td>\n",
       "      <td>2.0</td>\n",
       "      <td>error</td>\n",
       "      <td>3.940248</td>\n",
       "      <td>2015-12-01</td>\n",
       "    </tr>\n",
       "    <tr>\n",
       "      <th>622</th>\n",
       "      <td>1429863923708-7d714c30-81e1-4188-807f-78adba31...</td>\n",
       "      <td>2015-06-10</td>\n",
       "      <td>Cape Town</td>\n",
       "      <td>sole_proprietor</td>\n",
       "      <td>Home and repair</td>\n",
       "      <td>1.0</td>\n",
       "      <td>1448529064474-d59bad41-de0f-47c8-991c-eb0b3054...</td>\n",
       "      <td>2015-11-26 09:11:04.474000+00:00</td>\n",
       "      <td>credit_card</td>\n",
       "      <td>1.6</td>\n",
       "      <td>error</td>\n",
       "      <td>23.919693</td>\n",
       "      <td>2015-11-26</td>\n",
       "    </tr>\n",
       "    <tr>\n",
       "      <th>1020</th>\n",
       "      <td>1429863923708-7d714c30-81e1-4188-807f-78adba31...</td>\n",
       "      <td>2015-06-10</td>\n",
       "      <td>Cape Town</td>\n",
       "      <td>sole_proprietor</td>\n",
       "      <td>Home and repair</td>\n",
       "      <td>1.0</td>\n",
       "      <td>1448525302460-a8fbcd29-ebe8-4b85-b89e-1fca1db3...</td>\n",
       "      <td>2015-11-26 08:08:22.460000+00:00</td>\n",
       "      <td>credit_card</td>\n",
       "      <td>1.6</td>\n",
       "      <td>error</td>\n",
       "      <td>23.919693</td>\n",
       "      <td>2015-11-26</td>\n",
       "    </tr>\n",
       "    <tr>\n",
       "      <th>1047</th>\n",
       "      <td>1421419812371-8c8c42be-c0bb-4f35-80cf-73dcf913...</td>\n",
       "      <td>2015-01-26</td>\n",
       "      <td>Cape Town</td>\n",
       "      <td>NaN</td>\n",
       "      <td>Food, Drink &amp; Hospitality</td>\n",
       "      <td>1.0</td>\n",
       "      <td>1434128915189-b1148c75-fa6d-4bfb-b7dd-2b4c502a...</td>\n",
       "      <td>2015-06-12 17:08:35.187000+00:00</td>\n",
       "      <td>credit_card</td>\n",
       "      <td>85.0</td>\n",
       "      <td>approved</td>\n",
       "      <td>13.762390</td>\n",
       "      <td>2015-06-12</td>\n",
       "    </tr>\n",
       "    <tr>\n",
       "      <th>...</th>\n",
       "      <td>...</td>\n",
       "      <td>...</td>\n",
       "      <td>...</td>\n",
       "      <td>...</td>\n",
       "      <td>...</td>\n",
       "      <td>...</td>\n",
       "      <td>...</td>\n",
       "      <td>...</td>\n",
       "      <td>...</td>\n",
       "      <td>...</td>\n",
       "      <td>...</td>\n",
       "      <td>...</td>\n",
       "      <td>...</td>\n",
       "    </tr>\n",
       "    <tr>\n",
       "      <th>15023</th>\n",
       "      <td>1429863923708-7d714c30-81e1-4188-807f-78adba31...</td>\n",
       "      <td>2015-06-10</td>\n",
       "      <td>Cape Town</td>\n",
       "      <td>sole_proprietor</td>\n",
       "      <td>Home and repair</td>\n",
       "      <td>1.0</td>\n",
       "      <td>1448457832135-87c0a130-8893-4c29-bdae-43d63924...</td>\n",
       "      <td>2015-11-25 13:23:52.135000+00:00</td>\n",
       "      <td>credit_card</td>\n",
       "      <td>666.6</td>\n",
       "      <td>error</td>\n",
       "      <td>23.919693</td>\n",
       "      <td>2015-11-25</td>\n",
       "    </tr>\n",
       "    <tr>\n",
       "      <th>15039</th>\n",
       "      <td>1429863923708-7d714c30-81e1-4188-807f-78adba31...</td>\n",
       "      <td>2015-06-10</td>\n",
       "      <td>Cape Town</td>\n",
       "      <td>sole_proprietor</td>\n",
       "      <td>Home and repair</td>\n",
       "      <td>1.0</td>\n",
       "      <td>1448523448886-9e92f20f-befb-42d2-91ed-cf248f83...</td>\n",
       "      <td>2015-11-26 07:37:28.886000+00:00</td>\n",
       "      <td>credit_card</td>\n",
       "      <td>1.6</td>\n",
       "      <td>error</td>\n",
       "      <td>23.919693</td>\n",
       "      <td>2015-11-26</td>\n",
       "    </tr>\n",
       "    <tr>\n",
       "      <th>15137</th>\n",
       "      <td>1429863923708-7d714c30-81e1-4188-807f-78adba31...</td>\n",
       "      <td>2015-06-10</td>\n",
       "      <td>Cape Town</td>\n",
       "      <td>sole_proprietor</td>\n",
       "      <td>Home and repair</td>\n",
       "      <td>1.0</td>\n",
       "      <td>1448525292666-373fdc10-1f58-45dc-9fbe-28b1fe95...</td>\n",
       "      <td>2015-11-26 08:08:12.666000+00:00</td>\n",
       "      <td>credit_card</td>\n",
       "      <td>1.6</td>\n",
       "      <td>error</td>\n",
       "      <td>23.919693</td>\n",
       "      <td>2015-11-26</td>\n",
       "    </tr>\n",
       "    <tr>\n",
       "      <th>15153</th>\n",
       "      <td>1421419812371-8c8c42be-c0bb-4f35-80cf-73dcf913...</td>\n",
       "      <td>2015-01-26</td>\n",
       "      <td>Cape Town</td>\n",
       "      <td>NaN</td>\n",
       "      <td>Food, Drink &amp; Hospitality</td>\n",
       "      <td>1.0</td>\n",
       "      <td>1428506688185-d836a512-7d38-416e-88f3-2e9766d9...</td>\n",
       "      <td>2015-04-08 15:24:48.183000+00:00</td>\n",
       "      <td>credit_card</td>\n",
       "      <td>90.0</td>\n",
       "      <td>approved</td>\n",
       "      <td>18.459270</td>\n",
       "      <td>2015-04-08</td>\n",
       "    </tr>\n",
       "    <tr>\n",
       "      <th>15368</th>\n",
       "      <td>1429863923708-7d714c30-81e1-4188-807f-78adba31...</td>\n",
       "      <td>2015-06-10</td>\n",
       "      <td>Cape Town</td>\n",
       "      <td>sole_proprietor</td>\n",
       "      <td>Home and repair</td>\n",
       "      <td>1.0</td>\n",
       "      <td>1448893275988-ab2cce2c-5178-4dd3-abe5-59ae7f3e...</td>\n",
       "      <td>2015-11-30 14:21:15.988000+00:00</td>\n",
       "      <td>credit_card</td>\n",
       "      <td>1.0</td>\n",
       "      <td>error</td>\n",
       "      <td>12.097190</td>\n",
       "      <td>2015-11-30</td>\n",
       "    </tr>\n",
       "  </tbody>\n",
       "</table>\n",
       "<p>153 rows × 13 columns</p>\n",
       "</div>"
      ],
      "text/plain": [
       "                                           business_uuid   date_won  \\\n",
       "317    1429863923708-7d714c30-81e1-4188-807f-78adba31... 2015-06-10   \n",
       "426    1429863923708-7d714c30-81e1-4188-807f-78adba31... 2015-06-10   \n",
       "622    1429863923708-7d714c30-81e1-4188-807f-78adba31... 2015-06-10   \n",
       "1020   1429863923708-7d714c30-81e1-4188-807f-78adba31... 2015-06-10   \n",
       "1047   1421419812371-8c8c42be-c0bb-4f35-80cf-73dcf913... 2015-01-26   \n",
       "...                                                  ...        ...   \n",
       "15023  1429863923708-7d714c30-81e1-4188-807f-78adba31... 2015-06-10   \n",
       "15039  1429863923708-7d714c30-81e1-4188-807f-78adba31... 2015-06-10   \n",
       "15137  1429863923708-7d714c30-81e1-4188-807f-78adba31... 2015-06-10   \n",
       "15153  1421419812371-8c8c42be-c0bb-4f35-80cf-73dcf913... 2015-01-26   \n",
       "15368  1429863923708-7d714c30-81e1-4188-807f-78adba31... 2015-06-10   \n",
       "\n",
       "            city    business_type                  sub_group  partner_pos  \\\n",
       "317    Cape Town  sole_proprietor            Home and repair          1.0   \n",
       "426    Cape Town  sole_proprietor            Home and repair          1.0   \n",
       "622    Cape Town  sole_proprietor            Home and repair          1.0   \n",
       "1020   Cape Town  sole_proprietor            Home and repair          1.0   \n",
       "1047   Cape Town              NaN  Food, Drink & Hospitality          1.0   \n",
       "...          ...              ...                        ...          ...   \n",
       "15023  Cape Town  sole_proprietor            Home and repair          1.0   \n",
       "15039  Cape Town  sole_proprietor            Home and repair          1.0   \n",
       "15137  Cape Town  sole_proprietor            Home and repair          1.0   \n",
       "15153  Cape Town              NaN  Food, Drink & Hospitality          1.0   \n",
       "15368  Cape Town  sole_proprietor            Home and repair          1.0   \n",
       "\n",
       "                                        transaction_uuid  \\\n",
       "317    1451038926187-8f585944-268f-44f2-99f8-05501cac...   \n",
       "426    1448957685554-4abad856-096a-4f50-a43a-8f20df5c...   \n",
       "622    1448529064474-d59bad41-de0f-47c8-991c-eb0b3054...   \n",
       "1020   1448525302460-a8fbcd29-ebe8-4b85-b89e-1fca1db3...   \n",
       "1047   1434128915189-b1148c75-fa6d-4bfb-b7dd-2b4c502a...   \n",
       "...                                                  ...   \n",
       "15023  1448457832135-87c0a130-8893-4c29-bdae-43d63924...   \n",
       "15039  1448523448886-9e92f20f-befb-42d2-91ed-cf248f83...   \n",
       "15137  1448525292666-373fdc10-1f58-45dc-9fbe-28b1fe95...   \n",
       "15153  1428506688185-d836a512-7d38-416e-88f3-2e9766d9...   \n",
       "15368  1448893275988-ab2cce2c-5178-4dd3-abe5-59ae7f3e...   \n",
       "\n",
       "                               created transaction_type  amount_usd  \\\n",
       "317   2015-12-25 10:22:06.186000+00:00      credit_card         1.0   \n",
       "426   2015-12-01 08:14:45.554000+00:00      credit_card         2.0   \n",
       "622   2015-11-26 09:11:04.474000+00:00      credit_card         1.6   \n",
       "1020  2015-11-26 08:08:22.460000+00:00      credit_card         1.6   \n",
       "1047  2015-06-12 17:08:35.187000+00:00      credit_card        85.0   \n",
       "...                                ...              ...         ...   \n",
       "15023 2015-11-25 13:23:52.135000+00:00      credit_card       666.6   \n",
       "15039 2015-11-26 07:37:28.886000+00:00      credit_card         1.6   \n",
       "15137 2015-11-26 08:08:12.666000+00:00      credit_card         1.6   \n",
       "15153 2015-04-08 15:24:48.183000+00:00      credit_card        90.0   \n",
       "15368 2015-11-30 14:21:15.988000+00:00      credit_card         1.0   \n",
       "\n",
       "      transaction_state  processing_time trans_date  \n",
       "317            approved        28.255480 2015-12-25  \n",
       "426               error         3.940248 2015-12-01  \n",
       "622               error        23.919693 2015-11-26  \n",
       "1020              error        23.919693 2015-11-26  \n",
       "1047           approved        13.762390 2015-06-12  \n",
       "...                 ...              ...        ...  \n",
       "15023             error        23.919693 2015-11-25  \n",
       "15039             error        23.919693 2015-11-26  \n",
       "15137             error        23.919693 2015-11-26  \n",
       "15153          approved        18.459270 2015-04-08  \n",
       "15368             error        12.097190 2015-11-30  \n",
       "\n",
       "[153 rows x 13 columns]"
      ]
     },
     "execution_count": 26,
     "metadata": {},
     "output_type": "execute_result"
    }
   ],
   "source": [
    "#Checking for duplicate values after merge\n",
    "temp_merge[temp_merge['transaction_uuid'].duplicated()]"
   ]
  },
  {
   "cell_type": "code",
   "execution_count": 27,
   "id": "ec381ad5",
   "metadata": {},
   "outputs": [],
   "source": [
    "#Dropping Duplicate Values\n",
    "temp_merge = temp_merge.drop_duplicates(subset='transaction_uuid')"
   ]
  },
  {
   "cell_type": "code",
   "execution_count": 28,
   "id": "85365f36",
   "metadata": {},
   "outputs": [
    {
     "name": "stdout",
     "output_type": "stream",
     "text": [
      "<class 'pandas.core.frame.DataFrame'>\n",
      "Int64Index: 15389 entries, 0 to 15541\n",
      "Data columns (total 13 columns):\n",
      " #   Column             Non-Null Count  Dtype              \n",
      "---  ------             --------------  -----              \n",
      " 0   business_uuid      15389 non-null  object             \n",
      " 1   date_won           13666 non-null  datetime64[ns]     \n",
      " 2   city               13666 non-null  object             \n",
      " 3   business_type      13356 non-null  object             \n",
      " 4   sub_group          13666 non-null  object             \n",
      " 5   partner_pos        13666 non-null  float64            \n",
      " 6   transaction_uuid   15389 non-null  object             \n",
      " 7   created            15389 non-null  datetime64[ns, UTC]\n",
      " 8   transaction_type   15389 non-null  object             \n",
      " 9   amount_usd         15389 non-null  float64            \n",
      " 10  transaction_state  15389 non-null  object             \n",
      " 11  processing_time    15389 non-null  float64            \n",
      " 12  trans_date         15389 non-null  datetime64[ns]     \n",
      "dtypes: datetime64[ns, UTC](1), datetime64[ns](2), float64(3), object(7)\n",
      "memory usage: 1.6+ MB\n"
     ]
    }
   ],
   "source": [
    "temp_merge.info()"
   ]
  },
  {
   "cell_type": "code",
   "execution_count": 29,
   "id": "8dc11aa4",
   "metadata": {},
   "outputs": [
    {
     "data": {
      "text/plain": [
       "business_uuid           0\n",
       "date_won             1723\n",
       "city                 1723\n",
       "business_type        2033\n",
       "sub_group            1723\n",
       "partner_pos          1723\n",
       "transaction_uuid        0\n",
       "created                 0\n",
       "transaction_type        0\n",
       "amount_usd              0\n",
       "transaction_state       0\n",
       "processing_time         0\n",
       "trans_date              0\n",
       "dtype: int64"
      ]
     },
     "execution_count": 29,
     "metadata": {},
     "output_type": "execute_result"
    }
   ],
   "source": [
    "temp_merge.isnull().sum()"
   ]
  },
  {
   "cell_type": "code",
   "execution_count": null,
   "id": "86a9fc4f",
   "metadata": {},
   "outputs": [],
   "source": []
  },
  {
   "cell_type": "markdown",
   "id": "9eed5959",
   "metadata": {},
   "source": [
    "#### Data Analysis"
   ]
  },
  {
   "cell_type": "code",
   "execution_count": 30,
   "id": "999ede7e",
   "metadata": {},
   "outputs": [
    {
     "data": {
      "text/html": [
       "<div>\n",
       "<style scoped>\n",
       "    .dataframe tbody tr th:only-of-type {\n",
       "        vertical-align: middle;\n",
       "    }\n",
       "\n",
       "    .dataframe tbody tr th {\n",
       "        vertical-align: top;\n",
       "    }\n",
       "\n",
       "    .dataframe thead th {\n",
       "        text-align: right;\n",
       "    }\n",
       "</style>\n",
       "<table border=\"1\" class=\"dataframe\">\n",
       "  <thead>\n",
       "    <tr style=\"text-align: right;\">\n",
       "      <th></th>\n",
       "      <th>business_uuid</th>\n",
       "      <th>transactions</th>\n",
       "    </tr>\n",
       "  </thead>\n",
       "  <tbody>\n",
       "    <tr>\n",
       "      <th>0</th>\n",
       "      <td>1406276528708-f8212391-f625-47cd-a108-dbf13c4a...</td>\n",
       "      <td>3</td>\n",
       "    </tr>\n",
       "    <tr>\n",
       "      <th>1</th>\n",
       "      <td>1407937721690-22878388-e481-46cb-8384-5dea1658...</td>\n",
       "      <td>40</td>\n",
       "    </tr>\n",
       "    <tr>\n",
       "      <th>2</th>\n",
       "      <td>1408597458035-ae9b4dc2-37a2-43b3-8410-834feb19...</td>\n",
       "      <td>198</td>\n",
       "    </tr>\n",
       "    <tr>\n",
       "      <th>3</th>\n",
       "      <td>1408653254676-abd0c2bb-f33c-42f0-a4c0-aa09011e...</td>\n",
       "      <td>18</td>\n",
       "    </tr>\n",
       "    <tr>\n",
       "      <th>4</th>\n",
       "      <td>1409234980651-de3fff31-3d87-47e4-bb1a-12beafcd...</td>\n",
       "      <td>42</td>\n",
       "    </tr>\n",
       "    <tr>\n",
       "      <th>...</th>\n",
       "      <td>...</td>\n",
       "      <td>...</td>\n",
       "    </tr>\n",
       "    <tr>\n",
       "      <th>488</th>\n",
       "      <td>1450095033323-84663e9f-3ab2-4cb7-8f29-fe750cac...</td>\n",
       "      <td>1</td>\n",
       "    </tr>\n",
       "    <tr>\n",
       "      <th>489</th>\n",
       "      <td>1450110024445-71aa73a9-3687-42e1-8acd-d53d0d96...</td>\n",
       "      <td>1</td>\n",
       "    </tr>\n",
       "    <tr>\n",
       "      <th>490</th>\n",
       "      <td>1450293874907-5ef72ff3-3c43-40f3-aca7-23476289...</td>\n",
       "      <td>2</td>\n",
       "    </tr>\n",
       "    <tr>\n",
       "      <th>491</th>\n",
       "      <td>1450509470358-ddc1b23c-b04d-4df0-8e55-d5c5f12b...</td>\n",
       "      <td>1</td>\n",
       "    </tr>\n",
       "    <tr>\n",
       "      <th>492</th>\n",
       "      <td>1450685431887-c6acf791-54ed-4b25-ba3c-2494de4c...</td>\n",
       "      <td>1</td>\n",
       "    </tr>\n",
       "  </tbody>\n",
       "</table>\n",
       "<p>493 rows × 2 columns</p>\n",
       "</div>"
      ],
      "text/plain": [
       "                                         business_uuid  transactions\n",
       "0    1406276528708-f8212391-f625-47cd-a108-dbf13c4a...             3\n",
       "1    1407937721690-22878388-e481-46cb-8384-5dea1658...            40\n",
       "2    1408597458035-ae9b4dc2-37a2-43b3-8410-834feb19...           198\n",
       "3    1408653254676-abd0c2bb-f33c-42f0-a4c0-aa09011e...            18\n",
       "4    1409234980651-de3fff31-3d87-47e4-bb1a-12beafcd...            42\n",
       "..                                                 ...           ...\n",
       "488  1450095033323-84663e9f-3ab2-4cb7-8f29-fe750cac...             1\n",
       "489  1450110024445-71aa73a9-3687-42e1-8acd-d53d0d96...             1\n",
       "490  1450293874907-5ef72ff3-3c43-40f3-aca7-23476289...             2\n",
       "491  1450509470358-ddc1b23c-b04d-4df0-8e55-d5c5f12b...             1\n",
       "492  1450685431887-c6acf791-54ed-4b25-ba3c-2494de4c...             1\n",
       "\n",
       "[493 rows x 2 columns]"
      ]
     },
     "execution_count": 30,
     "metadata": {},
     "output_type": "execute_result"
    }
   ],
   "source": [
    "#Calculating the number of transactions per business\n",
    "\n",
    "freq = temp_merge.groupby('business_uuid')['trans_date'].count().reset_index()\n",
    "\n",
    "freq.columns = ['business_uuid','transactions']\n",
    "\n",
    "freq"
   ]
  },
  {
   "cell_type": "code",
   "execution_count": 31,
   "id": "8ac3a863",
   "metadata": {},
   "outputs": [],
   "source": [
    "# Calculating the Total Transactions Per Business\n",
    "transaction_value = temp_merge.groupby('business_uuid')['amount_usd'].sum().reset_index()\n",
    "\n",
    "transaction_value.columns = ['business_uuid','total_approved']"
   ]
  },
  {
   "cell_type": "code",
   "execution_count": 32,
   "id": "60bed3f3",
   "metadata": {},
   "outputs": [
    {
     "data": {
      "text/html": [
       "<div>\n",
       "<style scoped>\n",
       "    .dataframe tbody tr th:only-of-type {\n",
       "        vertical-align: middle;\n",
       "    }\n",
       "\n",
       "    .dataframe tbody tr th {\n",
       "        vertical-align: top;\n",
       "    }\n",
       "\n",
       "    .dataframe thead th {\n",
       "        text-align: right;\n",
       "    }\n",
       "</style>\n",
       "<table border=\"1\" class=\"dataframe\">\n",
       "  <thead>\n",
       "    <tr style=\"text-align: right;\">\n",
       "      <th></th>\n",
       "      <th>business_uuid</th>\n",
       "      <th>transactions</th>\n",
       "      <th>total_approved</th>\n",
       "    </tr>\n",
       "  </thead>\n",
       "  <tbody>\n",
       "    <tr>\n",
       "      <th>0</th>\n",
       "      <td>1406276528708-f8212391-f625-47cd-a108-dbf13c4a...</td>\n",
       "      <td>3</td>\n",
       "      <td>1515.68</td>\n",
       "    </tr>\n",
       "    <tr>\n",
       "      <th>1</th>\n",
       "      <td>1407937721690-22878388-e481-46cb-8384-5dea1658...</td>\n",
       "      <td>40</td>\n",
       "      <td>8985.00</td>\n",
       "    </tr>\n",
       "    <tr>\n",
       "      <th>2</th>\n",
       "      <td>1408597458035-ae9b4dc2-37a2-43b3-8410-834feb19...</td>\n",
       "      <td>198</td>\n",
       "      <td>20595.00</td>\n",
       "    </tr>\n",
       "    <tr>\n",
       "      <th>3</th>\n",
       "      <td>1408653254676-abd0c2bb-f33c-42f0-a4c0-aa09011e...</td>\n",
       "      <td>18</td>\n",
       "      <td>7360.00</td>\n",
       "    </tr>\n",
       "    <tr>\n",
       "      <th>4</th>\n",
       "      <td>1409234980651-de3fff31-3d87-47e4-bb1a-12beafcd...</td>\n",
       "      <td>42</td>\n",
       "      <td>11223.00</td>\n",
       "    </tr>\n",
       "    <tr>\n",
       "      <th>...</th>\n",
       "      <td>...</td>\n",
       "      <td>...</td>\n",
       "      <td>...</td>\n",
       "    </tr>\n",
       "    <tr>\n",
       "      <th>488</th>\n",
       "      <td>1450095033323-84663e9f-3ab2-4cb7-8f29-fe750cac...</td>\n",
       "      <td>1</td>\n",
       "      <td>100.00</td>\n",
       "    </tr>\n",
       "    <tr>\n",
       "      <th>489</th>\n",
       "      <td>1450110024445-71aa73a9-3687-42e1-8acd-d53d0d96...</td>\n",
       "      <td>1</td>\n",
       "      <td>255.00</td>\n",
       "    </tr>\n",
       "    <tr>\n",
       "      <th>490</th>\n",
       "      <td>1450293874907-5ef72ff3-3c43-40f3-aca7-23476289...</td>\n",
       "      <td>2</td>\n",
       "      <td>4983.00</td>\n",
       "    </tr>\n",
       "    <tr>\n",
       "      <th>491</th>\n",
       "      <td>1450509470358-ddc1b23c-b04d-4df0-8e55-d5c5f12b...</td>\n",
       "      <td>1</td>\n",
       "      <td>100.00</td>\n",
       "    </tr>\n",
       "    <tr>\n",
       "      <th>492</th>\n",
       "      <td>1450685431887-c6acf791-54ed-4b25-ba3c-2494de4c...</td>\n",
       "      <td>1</td>\n",
       "      <td>1.00</td>\n",
       "    </tr>\n",
       "  </tbody>\n",
       "</table>\n",
       "<p>493 rows × 3 columns</p>\n",
       "</div>"
      ],
      "text/plain": [
       "                                         business_uuid  transactions  \\\n",
       "0    1406276528708-f8212391-f625-47cd-a108-dbf13c4a...             3   \n",
       "1    1407937721690-22878388-e481-46cb-8384-5dea1658...            40   \n",
       "2    1408597458035-ae9b4dc2-37a2-43b3-8410-834feb19...           198   \n",
       "3    1408653254676-abd0c2bb-f33c-42f0-a4c0-aa09011e...            18   \n",
       "4    1409234980651-de3fff31-3d87-47e4-bb1a-12beafcd...            42   \n",
       "..                                                 ...           ...   \n",
       "488  1450095033323-84663e9f-3ab2-4cb7-8f29-fe750cac...             1   \n",
       "489  1450110024445-71aa73a9-3687-42e1-8acd-d53d0d96...             1   \n",
       "490  1450293874907-5ef72ff3-3c43-40f3-aca7-23476289...             2   \n",
       "491  1450509470358-ddc1b23c-b04d-4df0-8e55-d5c5f12b...             1   \n",
       "492  1450685431887-c6acf791-54ed-4b25-ba3c-2494de4c...             1   \n",
       "\n",
       "     total_approved  \n",
       "0           1515.68  \n",
       "1           8985.00  \n",
       "2          20595.00  \n",
       "3           7360.00  \n",
       "4          11223.00  \n",
       "..              ...  \n",
       "488          100.00  \n",
       "489          255.00  \n",
       "490         4983.00  \n",
       "491          100.00  \n",
       "492            1.00  \n",
       "\n",
       "[493 rows x 3 columns]"
      ]
     },
     "execution_count": 32,
     "metadata": {},
     "output_type": "execute_result"
    }
   ],
   "source": [
    "#Merging the transactions value and number of transactions dataframes\n",
    "transactions_df = pd.merge(freq,transaction_value,on='business_uuid')\n",
    "\n",
    "transactions_df"
   ]
  },
  {
   "cell_type": "code",
   "execution_count": 33,
   "id": "a7e9caac",
   "metadata": {},
   "outputs": [],
   "source": [
    "#Calculating the revenue per business by Multiplying total transactions by 1%\n",
    "transactions_df['revenue'] = round(transactions_df['total_approved'] * 0.01,2)"
   ]
  },
  {
   "cell_type": "code",
   "execution_count": 34,
   "id": "994807f8",
   "metadata": {},
   "outputs": [],
   "source": [
    "#Getting the Average Transaction Value per business\n",
    "transactions_df['Avg_transaction_revenue'] = round(transactions_df['revenue']/ transactions_df['transactions'],2)"
   ]
  },
  {
   "cell_type": "code",
   "execution_count": 35,
   "id": "f138b7e7",
   "metadata": {},
   "outputs": [
    {
     "data": {
      "text/html": [
       "<div>\n",
       "<style scoped>\n",
       "    .dataframe tbody tr th:only-of-type {\n",
       "        vertical-align: middle;\n",
       "    }\n",
       "\n",
       "    .dataframe tbody tr th {\n",
       "        vertical-align: top;\n",
       "    }\n",
       "\n",
       "    .dataframe thead th {\n",
       "        text-align: right;\n",
       "    }\n",
       "</style>\n",
       "<table border=\"1\" class=\"dataframe\">\n",
       "  <thead>\n",
       "    <tr style=\"text-align: right;\">\n",
       "      <th></th>\n",
       "      <th>business_uuid</th>\n",
       "      <th>transactions</th>\n",
       "      <th>total_approved</th>\n",
       "      <th>revenue</th>\n",
       "      <th>Avg_transaction_revenue</th>\n",
       "    </tr>\n",
       "  </thead>\n",
       "  <tbody>\n",
       "    <tr>\n",
       "      <th>0</th>\n",
       "      <td>1406276528708-f8212391-f625-47cd-a108-dbf13c4a...</td>\n",
       "      <td>3</td>\n",
       "      <td>1515.68</td>\n",
       "      <td>15.16</td>\n",
       "      <td>5.05</td>\n",
       "    </tr>\n",
       "    <tr>\n",
       "      <th>1</th>\n",
       "      <td>1407937721690-22878388-e481-46cb-8384-5dea1658...</td>\n",
       "      <td>40</td>\n",
       "      <td>8985.00</td>\n",
       "      <td>89.85</td>\n",
       "      <td>2.25</td>\n",
       "    </tr>\n",
       "    <tr>\n",
       "      <th>2</th>\n",
       "      <td>1408597458035-ae9b4dc2-37a2-43b3-8410-834feb19...</td>\n",
       "      <td>198</td>\n",
       "      <td>20595.00</td>\n",
       "      <td>205.95</td>\n",
       "      <td>1.04</td>\n",
       "    </tr>\n",
       "    <tr>\n",
       "      <th>3</th>\n",
       "      <td>1408653254676-abd0c2bb-f33c-42f0-a4c0-aa09011e...</td>\n",
       "      <td>18</td>\n",
       "      <td>7360.00</td>\n",
       "      <td>73.60</td>\n",
       "      <td>4.09</td>\n",
       "    </tr>\n",
       "    <tr>\n",
       "      <th>4</th>\n",
       "      <td>1409234980651-de3fff31-3d87-47e4-bb1a-12beafcd...</td>\n",
       "      <td>42</td>\n",
       "      <td>11223.00</td>\n",
       "      <td>112.23</td>\n",
       "      <td>2.67</td>\n",
       "    </tr>\n",
       "    <tr>\n",
       "      <th>...</th>\n",
       "      <td>...</td>\n",
       "      <td>...</td>\n",
       "      <td>...</td>\n",
       "      <td>...</td>\n",
       "      <td>...</td>\n",
       "    </tr>\n",
       "    <tr>\n",
       "      <th>488</th>\n",
       "      <td>1450095033323-84663e9f-3ab2-4cb7-8f29-fe750cac...</td>\n",
       "      <td>1</td>\n",
       "      <td>100.00</td>\n",
       "      <td>1.00</td>\n",
       "      <td>1.00</td>\n",
       "    </tr>\n",
       "    <tr>\n",
       "      <th>489</th>\n",
       "      <td>1450110024445-71aa73a9-3687-42e1-8acd-d53d0d96...</td>\n",
       "      <td>1</td>\n",
       "      <td>255.00</td>\n",
       "      <td>2.55</td>\n",
       "      <td>2.55</td>\n",
       "    </tr>\n",
       "    <tr>\n",
       "      <th>490</th>\n",
       "      <td>1450293874907-5ef72ff3-3c43-40f3-aca7-23476289...</td>\n",
       "      <td>2</td>\n",
       "      <td>4983.00</td>\n",
       "      <td>49.83</td>\n",
       "      <td>24.92</td>\n",
       "    </tr>\n",
       "    <tr>\n",
       "      <th>491</th>\n",
       "      <td>1450509470358-ddc1b23c-b04d-4df0-8e55-d5c5f12b...</td>\n",
       "      <td>1</td>\n",
       "      <td>100.00</td>\n",
       "      <td>1.00</td>\n",
       "      <td>1.00</td>\n",
       "    </tr>\n",
       "    <tr>\n",
       "      <th>492</th>\n",
       "      <td>1450685431887-c6acf791-54ed-4b25-ba3c-2494de4c...</td>\n",
       "      <td>1</td>\n",
       "      <td>1.00</td>\n",
       "      <td>0.01</td>\n",
       "      <td>0.01</td>\n",
       "    </tr>\n",
       "  </tbody>\n",
       "</table>\n",
       "<p>493 rows × 5 columns</p>\n",
       "</div>"
      ],
      "text/plain": [
       "                                         business_uuid  transactions  \\\n",
       "0    1406276528708-f8212391-f625-47cd-a108-dbf13c4a...             3   \n",
       "1    1407937721690-22878388-e481-46cb-8384-5dea1658...            40   \n",
       "2    1408597458035-ae9b4dc2-37a2-43b3-8410-834feb19...           198   \n",
       "3    1408653254676-abd0c2bb-f33c-42f0-a4c0-aa09011e...            18   \n",
       "4    1409234980651-de3fff31-3d87-47e4-bb1a-12beafcd...            42   \n",
       "..                                                 ...           ...   \n",
       "488  1450095033323-84663e9f-3ab2-4cb7-8f29-fe750cac...             1   \n",
       "489  1450110024445-71aa73a9-3687-42e1-8acd-d53d0d96...             1   \n",
       "490  1450293874907-5ef72ff3-3c43-40f3-aca7-23476289...             2   \n",
       "491  1450509470358-ddc1b23c-b04d-4df0-8e55-d5c5f12b...             1   \n",
       "492  1450685431887-c6acf791-54ed-4b25-ba3c-2494de4c...             1   \n",
       "\n",
       "     total_approved  revenue  Avg_transaction_revenue  \n",
       "0           1515.68    15.16                     5.05  \n",
       "1           8985.00    89.85                     2.25  \n",
       "2          20595.00   205.95                     1.04  \n",
       "3           7360.00    73.60                     4.09  \n",
       "4          11223.00   112.23                     2.67  \n",
       "..              ...      ...                      ...  \n",
       "488          100.00     1.00                     1.00  \n",
       "489          255.00     2.55                     2.55  \n",
       "490         4983.00    49.83                    24.92  \n",
       "491          100.00     1.00                     1.00  \n",
       "492            1.00     0.01                     0.01  \n",
       "\n",
       "[493 rows x 5 columns]"
      ]
     },
     "execution_count": 35,
     "metadata": {},
     "output_type": "execute_result"
    }
   ],
   "source": [
    "transactions_df\n"
   ]
  },
  {
   "cell_type": "code",
   "execution_count": 36,
   "id": "790657da",
   "metadata": {},
   "outputs": [],
   "source": [
    "\n",
    "#Extracting the latest transaction_date\n",
    "age_df = temp_merge.groupby('business_uuid')['trans_date'].max().reset_index()\n",
    "\n",
    "age_df.columns = ['business_uuid','latest_trans_date']\n",
    "\n",
    "#Merging the latest transaction date dataframe with the date_won column of the business_table\n",
    "age_df = pd.merge(age_df,business_table[['date_won','business_uuid']],on='business_uuid',how='left')\n",
    "\n",
    "age_df.drop_duplicates(inplace=True)"
   ]
  },
  {
   "cell_type": "code",
   "execution_count": 37,
   "id": "eda4d1e1",
   "metadata": {},
   "outputs": [],
   "source": [
    "#Extracting the second latest transaction date\n",
    "second_latest = temp_merge.sort_values(by='trans_date',ascending=False).groupby(['business_uuid']).nth(1)['trans_date'].reset_index()\n",
    "\n",
    "second_latest.columns = ['business_uuid','second_latest_trans_date']\n",
    "\n",
    "#Merging the latest transaction dataframe with the second_latest trasaction dataframe\n",
    "age1_df = pd.merge(age_df,second_latest,on='business_uuid',how='left')\n",
    "\n",
    "age1_df.drop_duplicates(inplace=True)\n"
   ]
  },
  {
   "cell_type": "code",
   "execution_count": 38,
   "id": "ef1adab3",
   "metadata": {},
   "outputs": [],
   "source": [
    "#Filling null values in the date_won column with Jan 1 2015\n",
    "age1_df['date_won'] = age1_df['date_won'].fillna(pd.to_datetime('2015-01-01'))\n",
    "\n",
    "#Filling null values in the second_latest_transaction date with the date_won\n",
    "age1_df['second_latest_trans_date'].fillna(age1_df['date_won'], inplace=True)\n",
    "\n",
    "#Obtaining the number of days between a customer's most recent transactions\n",
    "age1_df['days_between_transactions'] = age1_df['latest_trans_date'] - age1_df['second_latest_trans_date']\n",
    "\n",
    "#Calculating the age of a Customer's account\n",
    "age1_df['age'] = age1_df['latest_trans_date'] - age1_df['date_won']\n",
    "\n",
    "age1_df.drop_duplicates(inplace=True)\n"
   ]
  },
  {
   "cell_type": "code",
   "execution_count": 39,
   "id": "22c98af1",
   "metadata": {},
   "outputs": [
    {
     "name": "stdout",
     "output_type": "stream",
     "text": [
      "<class 'pandas.core.frame.DataFrame'>\n",
      "Int64Index: 493 entries, 0 to 492\n",
      "Data columns (total 6 columns):\n",
      " #   Column                     Non-Null Count  Dtype          \n",
      "---  ------                     --------------  -----          \n",
      " 0   business_uuid              493 non-null    object         \n",
      " 1   latest_trans_date          493 non-null    datetime64[ns] \n",
      " 2   date_won                   493 non-null    datetime64[ns] \n",
      " 3   second_latest_trans_date   493 non-null    datetime64[ns] \n",
      " 4   days_between_transactions  493 non-null    timedelta64[ns]\n",
      " 5   age                        493 non-null    timedelta64[ns]\n",
      "dtypes: datetime64[ns](3), object(1), timedelta64[ns](2)\n",
      "memory usage: 27.0+ KB\n"
     ]
    }
   ],
   "source": [
    "age1_df.info()"
   ]
  },
  {
   "cell_type": "code",
   "execution_count": 40,
   "id": "38c05f05",
   "metadata": {},
   "outputs": [
    {
     "data": {
      "text/html": [
       "<div>\n",
       "<style scoped>\n",
       "    .dataframe tbody tr th:only-of-type {\n",
       "        vertical-align: middle;\n",
       "    }\n",
       "\n",
       "    .dataframe tbody tr th {\n",
       "        vertical-align: top;\n",
       "    }\n",
       "\n",
       "    .dataframe thead th {\n",
       "        text-align: right;\n",
       "    }\n",
       "</style>\n",
       "<table border=\"1\" class=\"dataframe\">\n",
       "  <thead>\n",
       "    <tr style=\"text-align: right;\">\n",
       "      <th></th>\n",
       "      <th>business_uuid</th>\n",
       "      <th>latest_trans_date</th>\n",
       "      <th>date_won</th>\n",
       "      <th>second_latest_trans_date</th>\n",
       "      <th>days_between_transactions</th>\n",
       "      <th>age</th>\n",
       "    </tr>\n",
       "  </thead>\n",
       "  <tbody>\n",
       "    <tr>\n",
       "      <th>0</th>\n",
       "      <td>1406276528708-f8212391-f625-47cd-a108-dbf13c4a...</td>\n",
       "      <td>2015-11-11</td>\n",
       "      <td>2015-01-01</td>\n",
       "      <td>2015-06-09</td>\n",
       "      <td>155 days</td>\n",
       "      <td>314 days</td>\n",
       "    </tr>\n",
       "    <tr>\n",
       "      <th>1</th>\n",
       "      <td>1407937721690-22878388-e481-46cb-8384-5dea1658...</td>\n",
       "      <td>2015-12-18</td>\n",
       "      <td>2015-01-14</td>\n",
       "      <td>2015-12-16</td>\n",
       "      <td>2 days</td>\n",
       "      <td>338 days</td>\n",
       "    </tr>\n",
       "    <tr>\n",
       "      <th>2</th>\n",
       "      <td>1408597458035-ae9b4dc2-37a2-43b3-8410-834feb19...</td>\n",
       "      <td>2015-12-26</td>\n",
       "      <td>2015-01-01</td>\n",
       "      <td>2015-12-24</td>\n",
       "      <td>2 days</td>\n",
       "      <td>359 days</td>\n",
       "    </tr>\n",
       "    <tr>\n",
       "      <th>3</th>\n",
       "      <td>1408653254676-abd0c2bb-f33c-42f0-a4c0-aa09011e...</td>\n",
       "      <td>2015-10-01</td>\n",
       "      <td>2015-01-01</td>\n",
       "      <td>2015-08-24</td>\n",
       "      <td>38 days</td>\n",
       "      <td>273 days</td>\n",
       "    </tr>\n",
       "    <tr>\n",
       "      <th>4</th>\n",
       "      <td>1409234980651-de3fff31-3d87-47e4-bb1a-12beafcd...</td>\n",
       "      <td>2015-12-22</td>\n",
       "      <td>2015-01-01</td>\n",
       "      <td>2015-12-22</td>\n",
       "      <td>0 days</td>\n",
       "      <td>355 days</td>\n",
       "    </tr>\n",
       "    <tr>\n",
       "      <th>...</th>\n",
       "      <td>...</td>\n",
       "      <td>...</td>\n",
       "      <td>...</td>\n",
       "      <td>...</td>\n",
       "      <td>...</td>\n",
       "      <td>...</td>\n",
       "    </tr>\n",
       "    <tr>\n",
       "      <th>488</th>\n",
       "      <td>1450095033323-84663e9f-3ab2-4cb7-8f29-fe750cac...</td>\n",
       "      <td>2015-12-18</td>\n",
       "      <td>2015-12-17</td>\n",
       "      <td>2015-12-17</td>\n",
       "      <td>1 days</td>\n",
       "      <td>1 days</td>\n",
       "    </tr>\n",
       "    <tr>\n",
       "      <th>489</th>\n",
       "      <td>1450110024445-71aa73a9-3687-42e1-8acd-d53d0d96...</td>\n",
       "      <td>2015-12-21</td>\n",
       "      <td>2015-12-17</td>\n",
       "      <td>2015-12-17</td>\n",
       "      <td>4 days</td>\n",
       "      <td>4 days</td>\n",
       "    </tr>\n",
       "    <tr>\n",
       "      <th>490</th>\n",
       "      <td>1450293874907-5ef72ff3-3c43-40f3-aca7-23476289...</td>\n",
       "      <td>2015-12-26</td>\n",
       "      <td>2015-12-17</td>\n",
       "      <td>2015-12-23</td>\n",
       "      <td>3 days</td>\n",
       "      <td>9 days</td>\n",
       "    </tr>\n",
       "    <tr>\n",
       "      <th>491</th>\n",
       "      <td>1450509470358-ddc1b23c-b04d-4df0-8e55-d5c5f12b...</td>\n",
       "      <td>2015-12-23</td>\n",
       "      <td>2015-12-21</td>\n",
       "      <td>2015-12-21</td>\n",
       "      <td>2 days</td>\n",
       "      <td>2 days</td>\n",
       "    </tr>\n",
       "    <tr>\n",
       "      <th>492</th>\n",
       "      <td>1450685431887-c6acf791-54ed-4b25-ba3c-2494de4c...</td>\n",
       "      <td>2015-12-28</td>\n",
       "      <td>2015-12-21</td>\n",
       "      <td>2015-12-21</td>\n",
       "      <td>7 days</td>\n",
       "      <td>7 days</td>\n",
       "    </tr>\n",
       "  </tbody>\n",
       "</table>\n",
       "<p>493 rows × 6 columns</p>\n",
       "</div>"
      ],
      "text/plain": [
       "                                         business_uuid latest_trans_date  \\\n",
       "0    1406276528708-f8212391-f625-47cd-a108-dbf13c4a...        2015-11-11   \n",
       "1    1407937721690-22878388-e481-46cb-8384-5dea1658...        2015-12-18   \n",
       "2    1408597458035-ae9b4dc2-37a2-43b3-8410-834feb19...        2015-12-26   \n",
       "3    1408653254676-abd0c2bb-f33c-42f0-a4c0-aa09011e...        2015-10-01   \n",
       "4    1409234980651-de3fff31-3d87-47e4-bb1a-12beafcd...        2015-12-22   \n",
       "..                                                 ...               ...   \n",
       "488  1450095033323-84663e9f-3ab2-4cb7-8f29-fe750cac...        2015-12-18   \n",
       "489  1450110024445-71aa73a9-3687-42e1-8acd-d53d0d96...        2015-12-21   \n",
       "490  1450293874907-5ef72ff3-3c43-40f3-aca7-23476289...        2015-12-26   \n",
       "491  1450509470358-ddc1b23c-b04d-4df0-8e55-d5c5f12b...        2015-12-23   \n",
       "492  1450685431887-c6acf791-54ed-4b25-ba3c-2494de4c...        2015-12-28   \n",
       "\n",
       "      date_won second_latest_trans_date days_between_transactions      age  \n",
       "0   2015-01-01               2015-06-09                  155 days 314 days  \n",
       "1   2015-01-14               2015-12-16                    2 days 338 days  \n",
       "2   2015-01-01               2015-12-24                    2 days 359 days  \n",
       "3   2015-01-01               2015-08-24                   38 days 273 days  \n",
       "4   2015-01-01               2015-12-22                    0 days 355 days  \n",
       "..         ...                      ...                       ...      ...  \n",
       "488 2015-12-17               2015-12-17                    1 days   1 days  \n",
       "489 2015-12-17               2015-12-17                    4 days   4 days  \n",
       "490 2015-12-17               2015-12-23                    3 days   9 days  \n",
       "491 2015-12-21               2015-12-21                    2 days   2 days  \n",
       "492 2015-12-21               2015-12-21                    7 days   7 days  \n",
       "\n",
       "[493 rows x 6 columns]"
      ]
     },
     "execution_count": 40,
     "metadata": {},
     "output_type": "execute_result"
    }
   ],
   "source": [
    "age1_df"
   ]
  },
  {
   "cell_type": "code",
   "execution_count": null,
   "id": "5ab7e40a",
   "metadata": {},
   "outputs": [],
   "source": []
  },
  {
   "cell_type": "code",
   "execution_count": 41,
   "id": "affc9764",
   "metadata": {},
   "outputs": [],
   "source": [
    "#Checking if a customer has churned or not\n",
    "from datetime import timedelta\n",
    "age1_df['churn'] = age1_df['days_between_transactions'].apply(lambda x : \"Yes\" if x > timedelta(days=90)  else \"No\" )"
   ]
  },
  {
   "cell_type": "code",
   "execution_count": 42,
   "id": "04f02b44",
   "metadata": {},
   "outputs": [],
   "source": [
    "#Merging the transaction_df with the age info dataframe\n",
    "\n",
    "final_df = pd.merge(age1_df,transactions_df,on='business_uuid')"
   ]
  },
  {
   "cell_type": "code",
   "execution_count": 43,
   "id": "2075f440",
   "metadata": {},
   "outputs": [
    {
     "data": {
      "text/html": [
       "<div>\n",
       "<style scoped>\n",
       "    .dataframe tbody tr th:only-of-type {\n",
       "        vertical-align: middle;\n",
       "    }\n",
       "\n",
       "    .dataframe tbody tr th {\n",
       "        vertical-align: top;\n",
       "    }\n",
       "\n",
       "    .dataframe thead th {\n",
       "        text-align: right;\n",
       "    }\n",
       "</style>\n",
       "<table border=\"1\" class=\"dataframe\">\n",
       "  <thead>\n",
       "    <tr style=\"text-align: right;\">\n",
       "      <th></th>\n",
       "      <th>business_uuid</th>\n",
       "      <th>latest_trans_date</th>\n",
       "      <th>date_won</th>\n",
       "      <th>second_latest_trans_date</th>\n",
       "      <th>days_between_transactions</th>\n",
       "      <th>age</th>\n",
       "      <th>churn</th>\n",
       "      <th>transactions</th>\n",
       "      <th>total_approved</th>\n",
       "      <th>revenue</th>\n",
       "      <th>Avg_transaction_revenue</th>\n",
       "    </tr>\n",
       "  </thead>\n",
       "  <tbody>\n",
       "    <tr>\n",
       "      <th>0</th>\n",
       "      <td>1406276528708-f8212391-f625-47cd-a108-dbf13c4a...</td>\n",
       "      <td>2015-11-11</td>\n",
       "      <td>2015-01-01</td>\n",
       "      <td>2015-06-09</td>\n",
       "      <td>155 days</td>\n",
       "      <td>314 days</td>\n",
       "      <td>Yes</td>\n",
       "      <td>3</td>\n",
       "      <td>1515.68</td>\n",
       "      <td>15.16</td>\n",
       "      <td>5.05</td>\n",
       "    </tr>\n",
       "    <tr>\n",
       "      <th>1</th>\n",
       "      <td>1407937721690-22878388-e481-46cb-8384-5dea1658...</td>\n",
       "      <td>2015-12-18</td>\n",
       "      <td>2015-01-14</td>\n",
       "      <td>2015-12-16</td>\n",
       "      <td>2 days</td>\n",
       "      <td>338 days</td>\n",
       "      <td>No</td>\n",
       "      <td>40</td>\n",
       "      <td>8985.00</td>\n",
       "      <td>89.85</td>\n",
       "      <td>2.25</td>\n",
       "    </tr>\n",
       "    <tr>\n",
       "      <th>2</th>\n",
       "      <td>1408597458035-ae9b4dc2-37a2-43b3-8410-834feb19...</td>\n",
       "      <td>2015-12-26</td>\n",
       "      <td>2015-01-01</td>\n",
       "      <td>2015-12-24</td>\n",
       "      <td>2 days</td>\n",
       "      <td>359 days</td>\n",
       "      <td>No</td>\n",
       "      <td>198</td>\n",
       "      <td>20595.00</td>\n",
       "      <td>205.95</td>\n",
       "      <td>1.04</td>\n",
       "    </tr>\n",
       "    <tr>\n",
       "      <th>3</th>\n",
       "      <td>1408653254676-abd0c2bb-f33c-42f0-a4c0-aa09011e...</td>\n",
       "      <td>2015-10-01</td>\n",
       "      <td>2015-01-01</td>\n",
       "      <td>2015-08-24</td>\n",
       "      <td>38 days</td>\n",
       "      <td>273 days</td>\n",
       "      <td>No</td>\n",
       "      <td>18</td>\n",
       "      <td>7360.00</td>\n",
       "      <td>73.60</td>\n",
       "      <td>4.09</td>\n",
       "    </tr>\n",
       "    <tr>\n",
       "      <th>4</th>\n",
       "      <td>1409234980651-de3fff31-3d87-47e4-bb1a-12beafcd...</td>\n",
       "      <td>2015-12-22</td>\n",
       "      <td>2015-01-01</td>\n",
       "      <td>2015-12-22</td>\n",
       "      <td>0 days</td>\n",
       "      <td>355 days</td>\n",
       "      <td>No</td>\n",
       "      <td>42</td>\n",
       "      <td>11223.00</td>\n",
       "      <td>112.23</td>\n",
       "      <td>2.67</td>\n",
       "    </tr>\n",
       "    <tr>\n",
       "      <th>...</th>\n",
       "      <td>...</td>\n",
       "      <td>...</td>\n",
       "      <td>...</td>\n",
       "      <td>...</td>\n",
       "      <td>...</td>\n",
       "      <td>...</td>\n",
       "      <td>...</td>\n",
       "      <td>...</td>\n",
       "      <td>...</td>\n",
       "      <td>...</td>\n",
       "      <td>...</td>\n",
       "    </tr>\n",
       "    <tr>\n",
       "      <th>488</th>\n",
       "      <td>1450095033323-84663e9f-3ab2-4cb7-8f29-fe750cac...</td>\n",
       "      <td>2015-12-18</td>\n",
       "      <td>2015-12-17</td>\n",
       "      <td>2015-12-17</td>\n",
       "      <td>1 days</td>\n",
       "      <td>1 days</td>\n",
       "      <td>No</td>\n",
       "      <td>1</td>\n",
       "      <td>100.00</td>\n",
       "      <td>1.00</td>\n",
       "      <td>1.00</td>\n",
       "    </tr>\n",
       "    <tr>\n",
       "      <th>489</th>\n",
       "      <td>1450110024445-71aa73a9-3687-42e1-8acd-d53d0d96...</td>\n",
       "      <td>2015-12-21</td>\n",
       "      <td>2015-12-17</td>\n",
       "      <td>2015-12-17</td>\n",
       "      <td>4 days</td>\n",
       "      <td>4 days</td>\n",
       "      <td>No</td>\n",
       "      <td>1</td>\n",
       "      <td>255.00</td>\n",
       "      <td>2.55</td>\n",
       "      <td>2.55</td>\n",
       "    </tr>\n",
       "    <tr>\n",
       "      <th>490</th>\n",
       "      <td>1450293874907-5ef72ff3-3c43-40f3-aca7-23476289...</td>\n",
       "      <td>2015-12-26</td>\n",
       "      <td>2015-12-17</td>\n",
       "      <td>2015-12-23</td>\n",
       "      <td>3 days</td>\n",
       "      <td>9 days</td>\n",
       "      <td>No</td>\n",
       "      <td>2</td>\n",
       "      <td>4983.00</td>\n",
       "      <td>49.83</td>\n",
       "      <td>24.92</td>\n",
       "    </tr>\n",
       "    <tr>\n",
       "      <th>491</th>\n",
       "      <td>1450509470358-ddc1b23c-b04d-4df0-8e55-d5c5f12b...</td>\n",
       "      <td>2015-12-23</td>\n",
       "      <td>2015-12-21</td>\n",
       "      <td>2015-12-21</td>\n",
       "      <td>2 days</td>\n",
       "      <td>2 days</td>\n",
       "      <td>No</td>\n",
       "      <td>1</td>\n",
       "      <td>100.00</td>\n",
       "      <td>1.00</td>\n",
       "      <td>1.00</td>\n",
       "    </tr>\n",
       "    <tr>\n",
       "      <th>492</th>\n",
       "      <td>1450685431887-c6acf791-54ed-4b25-ba3c-2494de4c...</td>\n",
       "      <td>2015-12-28</td>\n",
       "      <td>2015-12-21</td>\n",
       "      <td>2015-12-21</td>\n",
       "      <td>7 days</td>\n",
       "      <td>7 days</td>\n",
       "      <td>No</td>\n",
       "      <td>1</td>\n",
       "      <td>1.00</td>\n",
       "      <td>0.01</td>\n",
       "      <td>0.01</td>\n",
       "    </tr>\n",
       "  </tbody>\n",
       "</table>\n",
       "<p>493 rows × 11 columns</p>\n",
       "</div>"
      ],
      "text/plain": [
       "                                         business_uuid latest_trans_date  \\\n",
       "0    1406276528708-f8212391-f625-47cd-a108-dbf13c4a...        2015-11-11   \n",
       "1    1407937721690-22878388-e481-46cb-8384-5dea1658...        2015-12-18   \n",
       "2    1408597458035-ae9b4dc2-37a2-43b3-8410-834feb19...        2015-12-26   \n",
       "3    1408653254676-abd0c2bb-f33c-42f0-a4c0-aa09011e...        2015-10-01   \n",
       "4    1409234980651-de3fff31-3d87-47e4-bb1a-12beafcd...        2015-12-22   \n",
       "..                                                 ...               ...   \n",
       "488  1450095033323-84663e9f-3ab2-4cb7-8f29-fe750cac...        2015-12-18   \n",
       "489  1450110024445-71aa73a9-3687-42e1-8acd-d53d0d96...        2015-12-21   \n",
       "490  1450293874907-5ef72ff3-3c43-40f3-aca7-23476289...        2015-12-26   \n",
       "491  1450509470358-ddc1b23c-b04d-4df0-8e55-d5c5f12b...        2015-12-23   \n",
       "492  1450685431887-c6acf791-54ed-4b25-ba3c-2494de4c...        2015-12-28   \n",
       "\n",
       "      date_won second_latest_trans_date days_between_transactions      age  \\\n",
       "0   2015-01-01               2015-06-09                  155 days 314 days   \n",
       "1   2015-01-14               2015-12-16                    2 days 338 days   \n",
       "2   2015-01-01               2015-12-24                    2 days 359 days   \n",
       "3   2015-01-01               2015-08-24                   38 days 273 days   \n",
       "4   2015-01-01               2015-12-22                    0 days 355 days   \n",
       "..         ...                      ...                       ...      ...   \n",
       "488 2015-12-17               2015-12-17                    1 days   1 days   \n",
       "489 2015-12-17               2015-12-17                    4 days   4 days   \n",
       "490 2015-12-17               2015-12-23                    3 days   9 days   \n",
       "491 2015-12-21               2015-12-21                    2 days   2 days   \n",
       "492 2015-12-21               2015-12-21                    7 days   7 days   \n",
       "\n",
       "    churn  transactions  total_approved  revenue  Avg_transaction_revenue  \n",
       "0     Yes             3         1515.68    15.16                     5.05  \n",
       "1      No            40         8985.00    89.85                     2.25  \n",
       "2      No           198        20595.00   205.95                     1.04  \n",
       "3      No            18         7360.00    73.60                     4.09  \n",
       "4      No            42        11223.00   112.23                     2.67  \n",
       "..    ...           ...             ...      ...                      ...  \n",
       "488    No             1          100.00     1.00                     1.00  \n",
       "489    No             1          255.00     2.55                     2.55  \n",
       "490    No             2         4983.00    49.83                    24.92  \n",
       "491    No             1          100.00     1.00                     1.00  \n",
       "492    No             1            1.00     0.01                     0.01  \n",
       "\n",
       "[493 rows x 11 columns]"
      ]
     },
     "execution_count": 43,
     "metadata": {},
     "output_type": "execute_result"
    }
   ],
   "source": [
    "final_df\n"
   ]
  },
  {
   "cell_type": "code",
   "execution_count": 44,
   "id": "65908001",
   "metadata": {},
   "outputs": [],
   "source": [
    "#Calculating the average frequency rate\n",
    "avg_freq_rate = np.sum(final_df['transactions'])/len(final_df)\n"
   ]
  },
  {
   "cell_type": "code",
   "execution_count": 45,
   "id": "07ecc30f",
   "metadata": {},
   "outputs": [],
   "source": [
    "#Calculating the Customer Value\n",
    "final_df['customer_value'] = round(final_df['Avg_transaction_revenue'] * avg_freq_rate,2)"
   ]
  },
  {
   "cell_type": "code",
   "execution_count": 46,
   "id": "a40c1287",
   "metadata": {},
   "outputs": [],
   "source": [
    "#Converting the age timedelta to floats\n",
    "final_df['age'] =final_df['age'].dt.days\n",
    "\n"
   ]
  },
  {
   "cell_type": "code",
   "execution_count": 47,
   "id": "0cc11188",
   "metadata": {},
   "outputs": [],
   "source": [
    "#Getting the Average Lifespan of the Customers\n",
    "avg_lifespan = final_df['age'].mean()"
   ]
  },
  {
   "cell_type": "code",
   "execution_count": 48,
   "id": "c64f86bf",
   "metadata": {},
   "outputs": [
    {
     "data": {
      "text/plain": [
       "94.16227180527383"
      ]
     },
     "execution_count": 48,
     "metadata": {},
     "output_type": "execute_result"
    }
   ],
   "source": [
    "avg_lifespan"
   ]
  },
  {
   "cell_type": "code",
   "execution_count": 49,
   "id": "76a51859",
   "metadata": {},
   "outputs": [],
   "source": [
    "#Obtaining the customer lifetiime value\n",
    "final_df['customer_lifetime_val'] = round((avg_lifespan * final_df['customer_value']) - 500,2)"
   ]
  },
  {
   "cell_type": "code",
   "execution_count": 50,
   "id": "ee704164",
   "metadata": {},
   "outputs": [
    {
     "data": {
      "text/html": [
       "<div>\n",
       "<style scoped>\n",
       "    .dataframe tbody tr th:only-of-type {\n",
       "        vertical-align: middle;\n",
       "    }\n",
       "\n",
       "    .dataframe tbody tr th {\n",
       "        vertical-align: top;\n",
       "    }\n",
       "\n",
       "    .dataframe thead th {\n",
       "        text-align: right;\n",
       "    }\n",
       "</style>\n",
       "<table border=\"1\" class=\"dataframe\">\n",
       "  <thead>\n",
       "    <tr style=\"text-align: right;\">\n",
       "      <th></th>\n",
       "      <th>business_uuid</th>\n",
       "      <th>latest_trans_date</th>\n",
       "      <th>date_won</th>\n",
       "      <th>second_latest_trans_date</th>\n",
       "      <th>days_between_transactions</th>\n",
       "      <th>age</th>\n",
       "      <th>churn</th>\n",
       "      <th>transactions</th>\n",
       "      <th>total_approved</th>\n",
       "      <th>revenue</th>\n",
       "      <th>Avg_transaction_revenue</th>\n",
       "      <th>customer_value</th>\n",
       "      <th>customer_lifetime_val</th>\n",
       "    </tr>\n",
       "  </thead>\n",
       "  <tbody>\n",
       "    <tr>\n",
       "      <th>0</th>\n",
       "      <td>1406276528708-f8212391-f625-47cd-a108-dbf13c4a...</td>\n",
       "      <td>2015-11-11</td>\n",
       "      <td>2015-01-01</td>\n",
       "      <td>2015-06-09</td>\n",
       "      <td>155 days</td>\n",
       "      <td>314</td>\n",
       "      <td>Yes</td>\n",
       "      <td>3</td>\n",
       "      <td>1515.68</td>\n",
       "      <td>15.16</td>\n",
       "      <td>5.05</td>\n",
       "      <td>157.64</td>\n",
       "      <td>14343.74</td>\n",
       "    </tr>\n",
       "    <tr>\n",
       "      <th>1</th>\n",
       "      <td>1407937721690-22878388-e481-46cb-8384-5dea1658...</td>\n",
       "      <td>2015-12-18</td>\n",
       "      <td>2015-01-14</td>\n",
       "      <td>2015-12-16</td>\n",
       "      <td>2 days</td>\n",
       "      <td>338</td>\n",
       "      <td>No</td>\n",
       "      <td>40</td>\n",
       "      <td>8985.00</td>\n",
       "      <td>89.85</td>\n",
       "      <td>2.25</td>\n",
       "      <td>70.23</td>\n",
       "      <td>6113.02</td>\n",
       "    </tr>\n",
       "    <tr>\n",
       "      <th>2</th>\n",
       "      <td>1408597458035-ae9b4dc2-37a2-43b3-8410-834feb19...</td>\n",
       "      <td>2015-12-26</td>\n",
       "      <td>2015-01-01</td>\n",
       "      <td>2015-12-24</td>\n",
       "      <td>2 days</td>\n",
       "      <td>359</td>\n",
       "      <td>No</td>\n",
       "      <td>198</td>\n",
       "      <td>20595.00</td>\n",
       "      <td>205.95</td>\n",
       "      <td>1.04</td>\n",
       "      <td>32.46</td>\n",
       "      <td>2556.51</td>\n",
       "    </tr>\n",
       "    <tr>\n",
       "      <th>3</th>\n",
       "      <td>1408653254676-abd0c2bb-f33c-42f0-a4c0-aa09011e...</td>\n",
       "      <td>2015-10-01</td>\n",
       "      <td>2015-01-01</td>\n",
       "      <td>2015-08-24</td>\n",
       "      <td>38 days</td>\n",
       "      <td>273</td>\n",
       "      <td>No</td>\n",
       "      <td>18</td>\n",
       "      <td>7360.00</td>\n",
       "      <td>73.60</td>\n",
       "      <td>4.09</td>\n",
       "      <td>127.67</td>\n",
       "      <td>11521.70</td>\n",
       "    </tr>\n",
       "    <tr>\n",
       "      <th>4</th>\n",
       "      <td>1409234980651-de3fff31-3d87-47e4-bb1a-12beafcd...</td>\n",
       "      <td>2015-12-22</td>\n",
       "      <td>2015-01-01</td>\n",
       "      <td>2015-12-22</td>\n",
       "      <td>0 days</td>\n",
       "      <td>355</td>\n",
       "      <td>No</td>\n",
       "      <td>42</td>\n",
       "      <td>11223.00</td>\n",
       "      <td>112.23</td>\n",
       "      <td>2.67</td>\n",
       "      <td>83.34</td>\n",
       "      <td>7347.48</td>\n",
       "    </tr>\n",
       "    <tr>\n",
       "      <th>...</th>\n",
       "      <td>...</td>\n",
       "      <td>...</td>\n",
       "      <td>...</td>\n",
       "      <td>...</td>\n",
       "      <td>...</td>\n",
       "      <td>...</td>\n",
       "      <td>...</td>\n",
       "      <td>...</td>\n",
       "      <td>...</td>\n",
       "      <td>...</td>\n",
       "      <td>...</td>\n",
       "      <td>...</td>\n",
       "      <td>...</td>\n",
       "    </tr>\n",
       "    <tr>\n",
       "      <th>488</th>\n",
       "      <td>1450095033323-84663e9f-3ab2-4cb7-8f29-fe750cac...</td>\n",
       "      <td>2015-12-18</td>\n",
       "      <td>2015-12-17</td>\n",
       "      <td>2015-12-17</td>\n",
       "      <td>1 days</td>\n",
       "      <td>1</td>\n",
       "      <td>No</td>\n",
       "      <td>1</td>\n",
       "      <td>100.00</td>\n",
       "      <td>1.00</td>\n",
       "      <td>1.00</td>\n",
       "      <td>31.22</td>\n",
       "      <td>2439.75</td>\n",
       "    </tr>\n",
       "    <tr>\n",
       "      <th>489</th>\n",
       "      <td>1450110024445-71aa73a9-3687-42e1-8acd-d53d0d96...</td>\n",
       "      <td>2015-12-21</td>\n",
       "      <td>2015-12-17</td>\n",
       "      <td>2015-12-17</td>\n",
       "      <td>4 days</td>\n",
       "      <td>4</td>\n",
       "      <td>No</td>\n",
       "      <td>1</td>\n",
       "      <td>255.00</td>\n",
       "      <td>2.55</td>\n",
       "      <td>2.55</td>\n",
       "      <td>79.60</td>\n",
       "      <td>6995.32</td>\n",
       "    </tr>\n",
       "    <tr>\n",
       "      <th>490</th>\n",
       "      <td>1450293874907-5ef72ff3-3c43-40f3-aca7-23476289...</td>\n",
       "      <td>2015-12-26</td>\n",
       "      <td>2015-12-17</td>\n",
       "      <td>2015-12-23</td>\n",
       "      <td>3 days</td>\n",
       "      <td>9</td>\n",
       "      <td>No</td>\n",
       "      <td>2</td>\n",
       "      <td>4983.00</td>\n",
       "      <td>49.83</td>\n",
       "      <td>24.92</td>\n",
       "      <td>777.88</td>\n",
       "      <td>72746.95</td>\n",
       "    </tr>\n",
       "    <tr>\n",
       "      <th>491</th>\n",
       "      <td>1450509470358-ddc1b23c-b04d-4df0-8e55-d5c5f12b...</td>\n",
       "      <td>2015-12-23</td>\n",
       "      <td>2015-12-21</td>\n",
       "      <td>2015-12-21</td>\n",
       "      <td>2 days</td>\n",
       "      <td>2</td>\n",
       "      <td>No</td>\n",
       "      <td>1</td>\n",
       "      <td>100.00</td>\n",
       "      <td>1.00</td>\n",
       "      <td>1.00</td>\n",
       "      <td>31.22</td>\n",
       "      <td>2439.75</td>\n",
       "    </tr>\n",
       "    <tr>\n",
       "      <th>492</th>\n",
       "      <td>1450685431887-c6acf791-54ed-4b25-ba3c-2494de4c...</td>\n",
       "      <td>2015-12-28</td>\n",
       "      <td>2015-12-21</td>\n",
       "      <td>2015-12-21</td>\n",
       "      <td>7 days</td>\n",
       "      <td>7</td>\n",
       "      <td>No</td>\n",
       "      <td>1</td>\n",
       "      <td>1.00</td>\n",
       "      <td>0.01</td>\n",
       "      <td>0.01</td>\n",
       "      <td>0.31</td>\n",
       "      <td>-470.81</td>\n",
       "    </tr>\n",
       "  </tbody>\n",
       "</table>\n",
       "<p>493 rows × 13 columns</p>\n",
       "</div>"
      ],
      "text/plain": [
       "                                         business_uuid latest_trans_date  \\\n",
       "0    1406276528708-f8212391-f625-47cd-a108-dbf13c4a...        2015-11-11   \n",
       "1    1407937721690-22878388-e481-46cb-8384-5dea1658...        2015-12-18   \n",
       "2    1408597458035-ae9b4dc2-37a2-43b3-8410-834feb19...        2015-12-26   \n",
       "3    1408653254676-abd0c2bb-f33c-42f0-a4c0-aa09011e...        2015-10-01   \n",
       "4    1409234980651-de3fff31-3d87-47e4-bb1a-12beafcd...        2015-12-22   \n",
       "..                                                 ...               ...   \n",
       "488  1450095033323-84663e9f-3ab2-4cb7-8f29-fe750cac...        2015-12-18   \n",
       "489  1450110024445-71aa73a9-3687-42e1-8acd-d53d0d96...        2015-12-21   \n",
       "490  1450293874907-5ef72ff3-3c43-40f3-aca7-23476289...        2015-12-26   \n",
       "491  1450509470358-ddc1b23c-b04d-4df0-8e55-d5c5f12b...        2015-12-23   \n",
       "492  1450685431887-c6acf791-54ed-4b25-ba3c-2494de4c...        2015-12-28   \n",
       "\n",
       "      date_won second_latest_trans_date days_between_transactions  age churn  \\\n",
       "0   2015-01-01               2015-06-09                  155 days  314   Yes   \n",
       "1   2015-01-14               2015-12-16                    2 days  338    No   \n",
       "2   2015-01-01               2015-12-24                    2 days  359    No   \n",
       "3   2015-01-01               2015-08-24                   38 days  273    No   \n",
       "4   2015-01-01               2015-12-22                    0 days  355    No   \n",
       "..         ...                      ...                       ...  ...   ...   \n",
       "488 2015-12-17               2015-12-17                    1 days    1    No   \n",
       "489 2015-12-17               2015-12-17                    4 days    4    No   \n",
       "490 2015-12-17               2015-12-23                    3 days    9    No   \n",
       "491 2015-12-21               2015-12-21                    2 days    2    No   \n",
       "492 2015-12-21               2015-12-21                    7 days    7    No   \n",
       "\n",
       "     transactions  total_approved  revenue  Avg_transaction_revenue  \\\n",
       "0               3         1515.68    15.16                     5.05   \n",
       "1              40         8985.00    89.85                     2.25   \n",
       "2             198        20595.00   205.95                     1.04   \n",
       "3              18         7360.00    73.60                     4.09   \n",
       "4              42        11223.00   112.23                     2.67   \n",
       "..            ...             ...      ...                      ...   \n",
       "488             1          100.00     1.00                     1.00   \n",
       "489             1          255.00     2.55                     2.55   \n",
       "490             2         4983.00    49.83                    24.92   \n",
       "491             1          100.00     1.00                     1.00   \n",
       "492             1            1.00     0.01                     0.01   \n",
       "\n",
       "     customer_value  customer_lifetime_val  \n",
       "0            157.64               14343.74  \n",
       "1             70.23                6113.02  \n",
       "2             32.46                2556.51  \n",
       "3            127.67               11521.70  \n",
       "4             83.34                7347.48  \n",
       "..              ...                    ...  \n",
       "488           31.22                2439.75  \n",
       "489           79.60                6995.32  \n",
       "490          777.88               72746.95  \n",
       "491           31.22                2439.75  \n",
       "492            0.31                -470.81  \n",
       "\n",
       "[493 rows x 13 columns]"
      ]
     },
     "execution_count": 50,
     "metadata": {},
     "output_type": "execute_result"
    }
   ],
   "source": [
    "final_df"
   ]
  },
  {
   "cell_type": "code",
   "execution_count": 51,
   "id": "423c4c2b",
   "metadata": {},
   "outputs": [],
   "source": [
    "#Merging the final_df with the business_table city and sub_group columns\n",
    "cleaned_df = pd.merge(final_df,business_table[['business_uuid','city','sub_group']],on='business_uuid',how='left')\n",
    "\n",
    "cleaned_df  = cleaned_df[~cleaned_df['business_uuid'].duplicated()]"
   ]
  },
  {
   "cell_type": "code",
   "execution_count": 52,
   "id": "ad8847bd",
   "metadata": {},
   "outputs": [
    {
     "name": "stdout",
     "output_type": "stream",
     "text": [
      "<class 'pandas.core.frame.DataFrame'>\n",
      "Int64Index: 493 entries, 0 to 501\n",
      "Data columns (total 15 columns):\n",
      " #   Column                     Non-Null Count  Dtype          \n",
      "---  ------                     --------------  -----          \n",
      " 0   business_uuid              493 non-null    object         \n",
      " 1   latest_trans_date          493 non-null    datetime64[ns] \n",
      " 2   date_won                   493 non-null    datetime64[ns] \n",
      " 3   second_latest_trans_date   493 non-null    datetime64[ns] \n",
      " 4   days_between_transactions  493 non-null    timedelta64[ns]\n",
      " 5   age                        493 non-null    int64          \n",
      " 6   churn                      493 non-null    object         \n",
      " 7   transactions               493 non-null    int64          \n",
      " 8   total_approved             493 non-null    float64        \n",
      " 9   revenue                    493 non-null    float64        \n",
      " 10  Avg_transaction_revenue    493 non-null    float64        \n",
      " 11  customer_value             493 non-null    float64        \n",
      " 12  customer_lifetime_val      493 non-null    float64        \n",
      " 13  city                       461 non-null    object         \n",
      " 14  sub_group                  461 non-null    object         \n",
      "dtypes: datetime64[ns](3), float64(5), int64(2), object(4), timedelta64[ns](1)\n",
      "memory usage: 61.6+ KB\n"
     ]
    }
   ],
   "source": [
    "cleaned_df.info()"
   ]
  },
  {
   "cell_type": "code",
   "execution_count": 53,
   "id": "45b40a8c",
   "metadata": {},
   "outputs": [],
   "source": [
    "#Filling the null values in sub_group and city with the most common value\n",
    "cleaned_df['sub_group'] = cleaned_df['sub_group'].fillna(cleaned_df['sub_group'].value_counts().idxmax())\n",
    "\n",
    "cleaned_df['city'] = cleaned_df['city'].fillna(cleaned_df['city'].value_counts().idxmax())"
   ]
  },
  {
   "cell_type": "code",
   "execution_count": 54,
   "id": "b03a1610",
   "metadata": {},
   "outputs": [
    {
     "name": "stdout",
     "output_type": "stream",
     "text": [
      "<class 'pandas.core.frame.DataFrame'>\n",
      "Int64Index: 493 entries, 0 to 501\n",
      "Data columns (total 15 columns):\n",
      " #   Column                     Non-Null Count  Dtype          \n",
      "---  ------                     --------------  -----          \n",
      " 0   business_uuid              493 non-null    object         \n",
      " 1   latest_trans_date          493 non-null    datetime64[ns] \n",
      " 2   date_won                   493 non-null    datetime64[ns] \n",
      " 3   second_latest_trans_date   493 non-null    datetime64[ns] \n",
      " 4   days_between_transactions  493 non-null    timedelta64[ns]\n",
      " 5   age                        493 non-null    int64          \n",
      " 6   churn                      493 non-null    object         \n",
      " 7   transactions               493 non-null    int64          \n",
      " 8   total_approved             493 non-null    float64        \n",
      " 9   revenue                    493 non-null    float64        \n",
      " 10  Avg_transaction_revenue    493 non-null    float64        \n",
      " 11  customer_value             493 non-null    float64        \n",
      " 12  customer_lifetime_val      493 non-null    float64        \n",
      " 13  city                       493 non-null    object         \n",
      " 14  sub_group                  493 non-null    object         \n",
      "dtypes: datetime64[ns](3), float64(5), int64(2), object(4), timedelta64[ns](1)\n",
      "memory usage: 61.6+ KB\n"
     ]
    }
   ],
   "source": [
    "cleaned_df.info()\n"
   ]
  },
  {
   "cell_type": "code",
   "execution_count": 55,
   "id": "88cb5a1a",
   "metadata": {},
   "outputs": [
    {
     "data": {
      "text/plain": [
       "city\n",
       "42 Witkoppen rd         131767.86\n",
       "7 Weltevreden Street     18428.50\n",
       "Alberton                 28098.97\n",
       "Arlington                 6848.42\n",
       "Bellville                 4202.46\n",
       "                          ...    \n",
       "Vanderbijlpark           19780.67\n",
       "Vredendal                 3790.97\n",
       "Wellington                4202.46\n",
       "Woodstock                49320.32\n",
       "johannesburg             13696.85\n",
       "Name: customer_lifetime_val, Length: 77, dtype: float64"
      ]
     },
     "execution_count": 55,
     "metadata": {},
     "output_type": "execute_result"
    }
   ],
   "source": [
    "cleaned_df.groupby('city')['customer_lifetime_val'].sum()"
   ]
  },
  {
   "cell_type": "code",
   "execution_count": 56,
   "id": "24e5d2ac",
   "metadata": {},
   "outputs": [
    {
     "data": {
      "text/plain": [
       "sub_group\n",
       "Retail                            2354567.28\n",
       "Food, Drink & Hospitality         1436004.28\n",
       "Healthcare, beauty and fitness    1418008.53\n",
       "Leisure and entertainment         1270789.58\n",
       "Professional services             1135520.76\n",
       "Home and repair                   1114237.29\n",
       "Online                             831278.70\n",
       "Travel and tourism                 655776.21\n",
       "Personal services                   57401.33\n",
       "Transportation                      24513.27\n",
       "Name: customer_lifetime_val, dtype: float64"
      ]
     },
     "execution_count": 56,
     "metadata": {},
     "output_type": "execute_result"
    }
   ],
   "source": [
    "cleaned_df.groupby('sub_group')['customer_lifetime_val'].sum().sort_values(ascending=False)"
   ]
  },
  {
   "cell_type": "code",
   "execution_count": 125,
   "id": "9cd061b4",
   "metadata": {},
   "outputs": [
    {
     "name": "stderr",
     "output_type": "stream",
     "text": [
      "C:\\Users\\USER\\AppData\\Local\\Temp\\ipykernel_3568\\1284224000.py:18: UserWarning: FixedFormatter should only be used together with FixedLocator\n",
      "  ax.set_xticklabels(['${:,.2f}M'.format(x/1e6) for x in ax.get_xticks()])\n"
     ]
    },
    {
     "data": {
      "text/plain": [
       "Text(0.5, 0, 'CLV(Millions)')"
      ]
     },
     "execution_count": 125,
     "metadata": {},
     "output_type": "execute_result"
    },
    {
     "data": {
      "image/png": "[encoded data removed]",
      "text/plain": [
       "<Figure size 640x480 with 1 Axes>"
      ]
     },
     "metadata": {},
     "output_type": "display_data"
    }
   ],
   "source": [
    "ax = cleaned_df.groupby('sub_group')['customer_lifetime_val'].sum().sort_values().plot(kind='barh')\n",
    "\n",
    "ax.set_yticklabels(cleaned_df.groupby('sub_group')['customer_lifetime_val'].sum().sort_values().index)\n",
    "\n",
    "highest_val = cleaned_df.groupby('sub_group')['customer_lifetime_val'].sum().sort_values().max()\n",
    "\n",
    "highest_index = cleaned_df.groupby('sub_group')['customer_lifetime_val'].sum().sort_values().idxmax()\n",
    "\n",
    "colors = ['blue' if i == highest_index else 'gray' for i in cleaned_df.groupby('sub_group')['customer_lifetime_val'].sum().sort_values().index]\n",
    "\n",
    "ax.barh(cleaned_df.groupby('sub_group')['customer_lifetime_val'].sum().sort_values().index, cleaned_df.groupby('sub_group')['customer_lifetime_val'].sum().sort_values(), color=colors)\n",
    "\n",
    "for i, v in enumerate(cleaned_df.groupby('sub_group')['customer_lifetime_val'].sum().sort_values()):\n",
    "    if v == highest_val:\n",
    "        ax.text(v+1e4, i-.25, '${:,.2f}M'.format(v/1e6), color='red', fontweight='bold')\n",
    "\n",
    "ax.grid(visible=False)\n",
    "ax.set_xticklabels(['${:,.2f}M'.format(x/1e6) for x in ax.get_xticks()])\n",
    "plt.title(\"Customer Lifetime Value by Industry\")\n",
    "plt.ylabel(\"Industry\")\n",
    "plt.xlabel(\"CLV(Millions)\")\n"
   ]
  },
  {
   "cell_type": "code",
   "execution_count": 134,
   "id": "c835b4ff",
   "metadata": {},
   "outputs": [],
   "source": [
    "retail_df = cleaned_df[cleaned_df['sub_group'] == 'Retail']\n",
    "\n",
    "total_clv_retail = cleaned_df.groupby('sub_group')['customer_lifetime_val'].sum().Retail"
   ]
  },
  {
   "cell_type": "code",
   "execution_count": 142,
   "id": "afb3ea3c",
   "metadata": {},
   "outputs": [
    {
     "data": {
      "text/html": [
       "<div>\n",
       "<style scoped>\n",
       "    .dataframe tbody tr th:only-of-type {\n",
       "        vertical-align: middle;\n",
       "    }\n",
       "\n",
       "    .dataframe tbody tr th {\n",
       "        vertical-align: top;\n",
       "    }\n",
       "\n",
       "    .dataframe thead th {\n",
       "        text-align: right;\n",
       "    }\n",
       "</style>\n",
       "<table border=\"1\" class=\"dataframe\">\n",
       "  <thead>\n",
       "    <tr style=\"text-align: right;\">\n",
       "      <th></th>\n",
       "      <th>city</th>\n",
       "      <th>customer_lifetime_val</th>\n",
       "    </tr>\n",
       "  </thead>\n",
       "  <tbody>\n",
       "    <tr>\n",
       "      <th>0</th>\n",
       "      <td>Cape Town</td>\n",
       "      <td>0.644893</td>\n",
       "    </tr>\n",
       "    <tr>\n",
       "      <th>1</th>\n",
       "      <td>Johannesburg</td>\n",
       "      <td>0.219854</td>\n",
       "    </tr>\n",
       "    <tr>\n",
       "      <th>2</th>\n",
       "      <td>Woodstock</td>\n",
       "      <td>0.020947</td>\n",
       "    </tr>\n",
       "    <tr>\n",
       "      <th>3</th>\n",
       "      <td>Pretoria</td>\n",
       "      <td>0.017688</td>\n",
       "    </tr>\n",
       "    <tr>\n",
       "      <th>4</th>\n",
       "      <td>Durban</td>\n",
       "      <td>0.015404</td>\n",
       "    </tr>\n",
       "    <tr>\n",
       "      <th>5</th>\n",
       "      <td>Randburg</td>\n",
       "      <td>0.013432</td>\n",
       "    </tr>\n",
       "    <tr>\n",
       "      <th>6</th>\n",
       "      <td>Springbok</td>\n",
       "      <td>0.009512</td>\n",
       "    </tr>\n",
       "    <tr>\n",
       "      <th>7</th>\n",
       "      <td>Kuilsriver</td>\n",
       "      <td>0.009175</td>\n",
       "    </tr>\n",
       "    <tr>\n",
       "      <th>8</th>\n",
       "      <td>Hermanus</td>\n",
       "      <td>0.007777</td>\n",
       "    </tr>\n",
       "    <tr>\n",
       "      <th>9</th>\n",
       "      <td>Grahamstown</td>\n",
       "      <td>0.007677</td>\n",
       "    </tr>\n",
       "    <tr>\n",
       "      <th>10</th>\n",
       "      <td>George</td>\n",
       "      <td>0.007452</td>\n",
       "    </tr>\n",
       "    <tr>\n",
       "      <th>11</th>\n",
       "      <td>Durbanville</td>\n",
       "      <td>0.007215</td>\n",
       "    </tr>\n",
       "    <tr>\n",
       "      <th>12</th>\n",
       "      <td>Stellenbosch</td>\n",
       "      <td>0.004918</td>\n",
       "    </tr>\n",
       "    <tr>\n",
       "      <th>13</th>\n",
       "      <td>Bloemfontein</td>\n",
       "      <td>0.004693</td>\n",
       "    </tr>\n",
       "    <tr>\n",
       "      <th>14</th>\n",
       "      <td>Grabouw</td>\n",
       "      <td>0.003383</td>\n",
       "    </tr>\n",
       "    <tr>\n",
       "      <th>15</th>\n",
       "      <td>Plettenberg Bay</td>\n",
       "      <td>0.002284</td>\n",
       "    </tr>\n",
       "    <tr>\n",
       "      <th>16</th>\n",
       "      <td>Centurion</td>\n",
       "      <td>0.001910</td>\n",
       "    </tr>\n",
       "    <tr>\n",
       "      <th>17</th>\n",
       "      <td>Bellville</td>\n",
       "      <td>0.001785</td>\n",
       "    </tr>\n",
       "  </tbody>\n",
       "</table>\n",
       "</div>"
      ],
      "text/plain": [
       "               city  customer_lifetime_val\n",
       "0         Cape Town               0.644893\n",
       "1      Johannesburg               0.219854\n",
       "2         Woodstock               0.020947\n",
       "3          Pretoria               0.017688\n",
       "4            Durban               0.015404\n",
       "5          Randburg               0.013432\n",
       "6         Springbok               0.009512\n",
       "7        Kuilsriver               0.009175\n",
       "8          Hermanus               0.007777\n",
       "9       Grahamstown               0.007677\n",
       "10           George               0.007452\n",
       "11      Durbanville               0.007215\n",
       "12     Stellenbosch               0.004918\n",
       "13     Bloemfontein               0.004693\n",
       "14          Grabouw               0.003383\n",
       "15  Plettenberg Bay               0.002284\n",
       "16        Centurion               0.001910\n",
       "17        Bellville               0.001785"
      ]
     },
     "execution_count": 142,
     "metadata": {},
     "output_type": "execute_result"
    }
   ],
   "source": [
    "by_city"
   ]
  },
  {
   "cell_type": "code",
   "execution_count": 146,
   "id": "66b991c5",
   "metadata": {},
   "outputs": [],
   "source": [
    "by_city = (retail_df.groupby('city')['customer_lifetime_val'].sum().sort_values(ascending = False)/ total_clv_retail).reset_index()\n",
    "\n",
    "others_clv = 0\n",
    "for clv in by_city['customer_lifetime_val']:\n",
    "     if clv < 0.20:\n",
    "        others_clv += clv\n",
    "cape_town_clv = by_city.iloc[0,1]  \n",
    "johannesburg_clv = by_city.iloc[1,1]"
   ]
  },
  {
   "cell_type": "code",
   "execution_count": 148,
   "id": "b6a6c1da",
   "metadata": {},
   "outputs": [],
   "source": [
    "cities = ['Cape Town','Johannesburg','Others']\n",
    "\n",
    "clvs = [cape_town_clv,johannesburg_clv,others_clv]"
   ]
  },
  {
   "cell_type": "code",
   "execution_count": 285,
   "id": "bbc240ea",
   "metadata": {},
   "outputs": [
    {
     "data": {
      "image/png": "[encoded data removed]",
      "text/plain": [
       "<Figure size 640x480 with 1 Axes>"
      ]
     },
     "metadata": {},
     "output_type": "display_data"
    }
   ],
   "source": [
    "fig, ax = plt.subplots()\n",
    "ax.pie(clvs, labels=cities, autopct='%1.1f%%', startangle=90, radius=1.29, \n",
    "       wedgeprops = {'width':0.4})\n",
    "ax.set_aspect(\"equal\")\n",
    "center_circle = plt.Circle((0,0),1.0,color='lightblue', fc='lightblue',linewidth=1.25)\n",
    "fig.gca().add_artist(center_circle)\n",
    "plt.subplots_adjust(top=0.7)\n",
    "plt.title('Donut Chart of Retail CLV\\'s by City',y=1.1)\n",
    "plt.show()\n"
   ]
  },
  {
   "cell_type": "markdown",
   "id": "31cca484",
   "metadata": {},
   "source": [
    "### Analysing Customer Churn by Industry"
   ]
  },
  {
   "cell_type": "code",
   "execution_count": 58,
   "id": "4562f6b7",
   "metadata": {},
   "outputs": [
    {
     "data": {
      "text/plain": [
       "No     465\n",
       "Yes     28\n",
       "Name: churn, dtype: int64"
      ]
     },
     "execution_count": 58,
     "metadata": {},
     "output_type": "execute_result"
    }
   ],
   "source": [
    "cleaned_df['churn'].value_counts()"
   ]
  },
  {
   "cell_type": "code",
   "execution_count": 206,
   "id": "680fb258",
   "metadata": {},
   "outputs": [
    {
     "data": {
      "text/plain": [
       "sub_group                       churn\n",
       "Food, Drink & Hospitality       No       0.958716\n",
       "                                Yes      0.041284\n",
       "Healthcare, beauty and fitness  No       0.895833\n",
       "                                Yes      0.104167\n",
       "Home and repair                 No       0.916667\n",
       "                                Yes      0.083333\n",
       "Leisure and entertainment       No       1.000000\n",
       "Online                          No       0.875000\n",
       "                                Yes      0.125000\n",
       "Personal services               No       1.000000\n",
       "Professional services           No       0.928571\n",
       "                                Yes      0.071429\n",
       "Retail                          No       0.946809\n",
       "                                Yes      0.053191\n",
       "Transportation                  No       1.000000\n",
       "Travel and tourism              No       0.941176\n",
       "                                Yes      0.058824\n",
       "Name: churn, dtype: float64"
      ]
     },
     "execution_count": 206,
     "metadata": {},
     "output_type": "execute_result"
    }
   ],
   "source": [
    "churn_df = cleaned_df.groupby('sub_group')['churn' ].value_counts(normalize=True)\n",
    "churn_df\n",
    "\n"
   ]
  },
  {
   "cell_type": "code",
   "execution_count": 210,
   "id": "8e22f284",
   "metadata": {},
   "outputs": [],
   "source": [
    "churn_yes = churn_df.loc[churn_df.index.get_level_values(1) == 'Yes']\n",
    "churn_yes = churn_yes.reset_index(level=1,drop=True)*100\n"
   ]
  },
  {
   "cell_type": "code",
   "execution_count": 220,
   "id": "5d64f787",
   "metadata": {},
   "outputs": [
    {
     "data": {
      "text/plain": [
       "sub_group\n",
       "Online                            12.50\n",
       "Healthcare, beauty and fitness    10.42\n",
       "Home and repair                    8.33\n",
       "Professional services              7.14\n",
       "Travel and tourism                 5.88\n",
       "Retail                             5.32\n",
       "Food, Drink & Hospitality          4.13\n",
       "Name: churn, dtype: float64"
      ]
     },
     "execution_count": 220,
     "metadata": {},
     "output_type": "execute_result"
    }
   ],
   "source": [
    "churn_yes = round(churn_yes,2)\n",
    "churn_yes = churn_yes.sort_values(ascending=False)"
   ]
  },
  {
   "cell_type": "code",
   "execution_count": 245,
   "id": "f01263a8",
   "metadata": {},
   "outputs": [
    {
     "data": {
      "application/vnd.plotly.v1+json": {
       "config": {
        "plotlyServerURL": "https://plot.ly"
       },
       "data": [
        {
         "hovertemplate": "churn=%{r}<br>sub_group=%{theta}<extra></extra>",
         "legendgroup": "",
         "marker": {
          "color": "#636efa",
          "pattern": {
           "shape": ""
          }
         },
         "name": "",
         "r": [
          4.13,
          10.42,
          8.33,
          12.5,
          7.14,
          5.32,
          5.88
         ],
         "showlegend": false,
         "subplot": "polar",
         "theta": [
          "Food, Drink & Hospitality",
          "Healthcare, beauty and fitness",
          "Home and repair",
          "Online",
          "Professional services",
          "Retail",
          "Travel and tourism"
         ],
         "type": "barpolar"
        }
       ],
       "layout": {
        "barmode": "relative",
        "legend": {
         "tracegroupgap": 0
        },
        "polar": {
         "angularaxis": {
          "direction": "clockwise",
          "rotation": 90
         },
         "domain": {
          "x": [
           0,
           1
          ],
          "y": [
           0,
           1
          ]
         }
        },
        "template": {
         "data": {
          "bar": [
           {
            "error_x": {
             "color": "#2a3f5f"
            },
            "error_y": {
             "color": "#2a3f5f"
            },
            "marker": {
             "line": {
              "color": "#E5ECF6",
              "width": 0.5
             },
             "pattern": {
              "fillmode": "overlay",
              "size": 10,
              "solidity": 0.2
             }
            },
            "type": "bar"
           }
          ],
          "barpolar": [
           {
            "marker": {
             "line": {
              "color": "#E5ECF6",
              "width": 0.5
             },
             "pattern": {
              "fillmode": "overlay",
              "size": 10,
              "solidity": 0.2
             }
            },
            "type": "barpolar"
           }
          ],
          "carpet": [
           {
            "aaxis": {
             "endlinecolor": "#2a3f5f",
             "gridcolor": "white",
             "linecolor": "white",
             "minorgridcolor": "white",
             "startlinecolor": "#2a3f5f"
            },
            "baxis": {
             "endlinecolor": "#2a3f5f",
             "gridcolor": "white",
             "linecolor": "white",
             "minorgridcolor": "white",
             "startlinecolor": "#2a3f5f"
            },
            "type": "carpet"
           }
          ],
          "choropleth": [
           {
            "colorbar": {
             "outlinewidth": 0,
             "ticks": ""
            },
            "type": "choropleth"
           }
          ],
          "contour": [
           {
            "colorbar": {
             "outlinewidth": 0,
             "ticks": ""
            },
            "colorscale": [
             [
              0,
              "#0d0887"
             ],
             [
              0.1111111111111111,
              "#46039f"
             ],
             [
              0.2222222222222222,
              "#7201a8"
             ],
             [
              0.3333333333333333,
              "#9c179e"
             ],
             [
              0.4444444444444444,
              "#bd3786"
             ],
             [
              0.5555555555555556,
              "#d8576b"
             ],
             [
              0.6666666666666666,
              "#ed7953"
             ],
             [
              0.7777777777777778,
              "#fb9f3a"
             ],
             [
              0.8888888888888888,
              "#fdca26"
             ],
             [
              1,
              "#f0f921"
             ]
            ],
            "type": "contour"
           }
          ],
          "contourcarpet": [
           {
            "colorbar": {
             "outlinewidth": 0,
             "ticks": ""
            },
            "type": "contourcarpet"
           }
          ],
          "heatmap": [
           {
            "colorbar": {
             "outlinewidth": 0,
             "ticks": ""
            },
            "colorscale": [
             [
              0,
              "#0d0887"
             ],
             [
              0.1111111111111111,
              "#46039f"
             ],
             [
              0.2222222222222222,
              "#7201a8"
             ],
             [
              0.3333333333333333,
              "#9c179e"
             ],
             [
              0.4444444444444444,
              "#bd3786"
             ],
             [
              0.5555555555555556,
              "#d8576b"
             ],
             [
              0.6666666666666666,
              "#ed7953"
             ],
             [
              0.7777777777777778,
              "#fb9f3a"
             ],
             [
              0.8888888888888888,
              "#fdca26"
             ],
             [
              1,
              "#f0f921"
             ]
            ],
            "type": "heatmap"
           }
          ],
          "heatmapgl": [
           {
            "colorbar": {
             "outlinewidth": 0,
             "ticks": ""
            },
            "colorscale": [
             [
              0,
              "#0d0887"
             ],
             [
              0.1111111111111111,
              "#46039f"
             ],
             [
              0.2222222222222222,
              "#7201a8"
             ],
             [
              0.3333333333333333,
              "#9c179e"
             ],
             [
              0.4444444444444444,
              "#bd3786"
             ],
             [
              0.5555555555555556,
              "#d8576b"
             ],
             [
              0.6666666666666666,
              "#ed7953"
             ],
             [
              0.7777777777777778,
              "#fb9f3a"
             ],
             [
              0.8888888888888888,
              "#fdca26"
             ],
             [
              1,
              "#f0f921"
             ]
            ],
            "type": "heatmapgl"
           }
          ],
          "histogram": [
           {
            "marker": {
             "pattern": {
              "fillmode": "overlay",
              "size": 10,
              "solidity": 0.2
             }
            },
            "type": "histogram"
           }
          ],
          "histogram2d": [
           {
            "colorbar": {
             "outlinewidth": 0,
             "ticks": ""
            },
            "colorscale": [
             [
              0,
              "#0d0887"
             ],
             [
              0.1111111111111111,
              "#46039f"
             ],
             [
              0.2222222222222222,
              "#7201a8"
             ],
             [
              0.3333333333333333,
              "#9c179e"
             ],
             [
              0.4444444444444444,
              "#bd3786"
             ],
             [
              0.5555555555555556,
              "#d8576b"
             ],
             [
              0.6666666666666666,
              "#ed7953"
             ],
             [
              0.7777777777777778,
              "#fb9f3a"
             ],
             [
              0.8888888888888888,
              "#fdca26"
             ],
             [
              1,
              "#f0f921"
             ]
            ],
            "type": "histogram2d"
           }
          ],
          "histogram2dcontour": [
           {
            "colorbar": {
             "outlinewidth": 0,
             "ticks": ""
            },
            "colorscale": [
             [
              0,
              "#0d0887"
             ],
             [
              0.1111111111111111,
              "#46039f"
             ],
             [
              0.2222222222222222,
              "#7201a8"
             ],
             [
              0.3333333333333333,
              "#9c179e"
             ],
             [
              0.4444444444444444,
              "#bd3786"
             ],
             [
              0.5555555555555556,
              "#d8576b"
             ],
             [
              0.6666666666666666,
              "#ed7953"
             ],
             [
              0.7777777777777778,
              "#fb9f3a"
             ],
             [
              0.8888888888888888,
              "#fdca26"
             ],
             [
              1,
              "#f0f921"
             ]
            ],
            "type": "histogram2dcontour"
           }
          ],
          "mesh3d": [
           {
            "colorbar": {
             "outlinewidth": 0,
             "ticks": ""
            },
            "type": "mesh3d"
           }
          ],
          "parcoords": [
           {
            "line": {
             "colorbar": {
              "outlinewidth": 0,
              "ticks": ""
             }
            },
            "type": "parcoords"
           }
          ],
          "pie": [
           {
            "automargin": true,
            "type": "pie"
           }
          ],
          "scatter": [
           {
            "fillpattern": {
             "fillmode": "overlay",
             "size": 10,
             "solidity": 0.2
            },
            "type": "scatter"
           }
          ],
          "scatter3d": [
           {
            "line": {
             "colorbar": {
              "outlinewidth": 0,
              "ticks": ""
             }
            },
            "marker": {
             "colorbar": {
              "outlinewidth": 0,
              "ticks": ""
             }
            },
            "type": "scatter3d"
           }
          ],
          "scattercarpet": [
           {
            "marker": {
             "colorbar": {
              "outlinewidth": 0,
              "ticks": ""
             }
            },
            "type": "scattercarpet"
           }
          ],
          "scattergeo": [
           {
            "marker": {
             "colorbar": {
              "outlinewidth": 0,
              "ticks": ""
             }
            },
            "type": "scattergeo"
           }
          ],
          "scattergl": [
           {
            "marker": {
             "colorbar": {
              "outlinewidth": 0,
              "ticks": ""
             }
            },
            "type": "scattergl"
           }
          ],
          "scattermapbox": [
           {
            "marker": {
             "colorbar": {
              "outlinewidth": 0,
              "ticks": ""
             }
            },
            "type": "scattermapbox"
           }
          ],
          "scatterpolar": [
           {
            "marker": {
             "colorbar": {
              "outlinewidth": 0,
              "ticks": ""
             }
            },
            "type": "scatterpolar"
           }
          ],
          "scatterpolargl": [
           {
            "marker": {
             "colorbar": {
              "outlinewidth": 0,
              "ticks": ""
             }
            },
            "type": "scatterpolargl"
           }
          ],
          "scatterternary": [
           {
            "marker": {
             "colorbar": {
              "outlinewidth": 0,
              "ticks": ""
             }
            },
            "type": "scatterternary"
           }
          ],
          "surface": [
           {
            "colorbar": {
             "outlinewidth": 0,
             "ticks": ""
            },
            "colorscale": [
             [
              0,
              "#0d0887"
             ],
             [
              0.1111111111111111,
              "#46039f"
             ],
             [
              0.2222222222222222,
              "#7201a8"
             ],
             [
              0.3333333333333333,
              "#9c179e"
             ],
             [
              0.4444444444444444,
              "#bd3786"
             ],
             [
              0.5555555555555556,
              "#d8576b"
             ],
             [
              0.6666666666666666,
              "#ed7953"
             ],
             [
              0.7777777777777778,
              "#fb9f3a"
             ],
             [
              0.8888888888888888,
              "#fdca26"
             ],
             [
              1,
              "#f0f921"
             ]
            ],
            "type": "surface"
           }
          ],
          "table": [
           {
            "cells": {
             "fill": {
              "color": "#EBF0F8"
             },
             "line": {
              "color": "white"
             }
            },
            "header": {
             "fill": {
              "color": "#C8D4E3"
             },
             "line": {
              "color": "white"
             }
            },
            "type": "table"
           }
          ]
         },
         "layout": {
          "annotationdefaults": {
           "arrowcolor": "#2a3f5f",
           "arrowhead": 0,
           "arrowwidth": 1
          },
          "autotypenumbers": "strict",
          "coloraxis": {
           "colorbar": {
            "outlinewidth": 0,
            "ticks": ""
           }
          },
          "colorscale": {
           "diverging": [
            [
             0,
             "#8e0152"
            ],
            [
             0.1,
             "#c51b7d"
            ],
            [
             0.2,
             "#de77ae"
            ],
            [
             0.3,
             "#f1b6da"
            ],
            [
             0.4,
             "#fde0ef"
            ],
            [
             0.5,
             "#f7f7f7"
            ],
            [
             0.6,
             "#e6f5d0"
            ],
            [
             0.7,
             "#b8e186"
            ],
            [
             0.8,
             "#7fbc41"
            ],
            [
             0.9,
             "#4d9221"
            ],
            [
             1,
             "#276419"
            ]
           ],
           "sequential": [
            [
             0,
             "#0d0887"
            ],
            [
             0.1111111111111111,
             "#46039f"
            ],
            [
             0.2222222222222222,
             "#7201a8"
            ],
            [
             0.3333333333333333,
             "#9c179e"
            ],
            [
             0.4444444444444444,
             "#bd3786"
            ],
            [
             0.5555555555555556,
             "#d8576b"
            ],
            [
             0.6666666666666666,
             "#ed7953"
            ],
            [
             0.7777777777777778,
             "#fb9f3a"
            ],
            [
             0.8888888888888888,
             "#fdca26"
            ],
            [
             1,
             "#f0f921"
            ]
           ],
           "sequentialminus": [
            [
             0,
             "#0d0887"
            ],
            [
             0.1111111111111111,
             "#46039f"
            ],
            [
             0.2222222222222222,
             "#7201a8"
            ],
            [
             0.3333333333333333,
             "#9c179e"
            ],
            [
             0.4444444444444444,
             "#bd3786"
            ],
            [
             0.5555555555555556,
             "#d8576b"
            ],
            [
             0.6666666666666666,
             "#ed7953"
            ],
            [
             0.7777777777777778,
             "#fb9f3a"
            ],
            [
             0.8888888888888888,
             "#fdca26"
            ],
            [
             1,
             "#f0f921"
            ]
           ]
          },
          "colorway": [
           "#636efa",
           "#EF553B",
           "#00cc96",
           "#ab63fa",
           "#FFA15A",
           "#19d3f3",
           "#FF6692",
           "#B6E880",
           "#FF97FF",
           "#FECB52"
          ],
          "font": {
           "color": "#2a3f5f"
          },
          "geo": {
           "bgcolor": "white",
           "lakecolor": "white",
           "landcolor": "#E5ECF6",
           "showlakes": true,
           "showland": true,
           "subunitcolor": "white"
          },
          "hoverlabel": {
           "align": "left"
          },
          "hovermode": "closest",
          "mapbox": {
           "style": "light"
          },
          "paper_bgcolor": "white",
          "plot_bgcolor": "#E5ECF6",
          "polar": {
           "angularaxis": {
            "gridcolor": "white",
            "linecolor": "white",
            "ticks": ""
           },
           "bgcolor": "#E5ECF6",
           "radialaxis": {
            "gridcolor": "white",
            "linecolor": "white",
            "ticks": ""
           }
          },
          "scene": {
           "xaxis": {
            "backgroundcolor": "#E5ECF6",
            "gridcolor": "white",
            "gridwidth": 2,
            "linecolor": "white",
            "showbackground": true,
            "ticks": "",
            "zerolinecolor": "white"
           },
           "yaxis": {
            "backgroundcolor": "#E5ECF6",
            "gridcolor": "white",
            "gridwidth": 2,
            "linecolor": "white",
            "showbackground": true,
            "ticks": "",
            "zerolinecolor": "white"
           },
           "zaxis": {
            "backgroundcolor": "#E5ECF6",
            "gridcolor": "white",
            "gridwidth": 2,
            "linecolor": "white",
            "showbackground": true,
            "ticks": "",
            "zerolinecolor": "white"
           }
          },
          "shapedefaults": {
           "line": {
            "color": "#2a3f5f"
           }
          },
          "ternary": {
           "aaxis": {
            "gridcolor": "white",
            "linecolor": "white",
            "ticks": ""
           },
           "baxis": {
            "gridcolor": "white",
            "linecolor": "white",
            "ticks": ""
           },
           "bgcolor": "#E5ECF6",
           "caxis": {
            "gridcolor": "white",
            "linecolor": "white",
            "ticks": ""
           }
          },
          "title": {
           "x": 0.05
          },
          "xaxis": {
           "automargin": true,
           "gridcolor": "white",
           "linecolor": "white",
           "ticks": "",
           "title": {
            "standoff": 15
           },
           "zerolinecolor": "white",
           "zerolinewidth": 2
          },
          "yaxis": {
           "automargin": true,
           "gridcolor": "white",
           "linecolor": "white",
           "ticks": "",
           "title": {
            "standoff": 15
           },
           "zerolinecolor": "white",
           "zerolinewidth": 2
          }
         }
        },
        "title": {
         "text": "Churn_Rate(%) by Industry"
        }
       }
      },
      "text/html": [
       "<div>                            <div id=\"9c97f8c7-7a7a-48d1-93a5-665647ac514d\" class=\"plotly-graph-div\" style=\"height:525px; width:100%;\"></div>            <script type=\"text/javascript\">                require([\"plotly\"], function(Plotly) {                    window.PLOTLYENV=window.PLOTLYENV || {};                                    if (document.getElementById(\"9c97f8c7-7a7a-48d1-93a5-665647ac514d\")) {                    Plotly.newPlot(                        \"9c97f8c7-7a7a-48d1-93a5-665647ac514d\",                        [{\"hovertemplate\":\"churn=%{r}<br>sub_group=%{theta}<extra></extra>\",\"legendgroup\":\"\",\"marker\":{\"color\":\"#636efa\",\"pattern\":{\"shape\":\"\"}},\"name\":\"\",\"r\":[4.13,10.42,8.33,12.5,7.14,5.32,5.88],\"showlegend\":false,\"subplot\":\"polar\",\"theta\":[\"Food, Drink & Hospitality\",\"Healthcare, beauty and fitness\",\"Home and repair\",\"Online\",\"Professional services\",\"Retail\",\"Travel and tourism\"],\"type\":\"barpolar\"}],                        {\"template\":{\"data\":{\"histogram2dcontour\":[{\"type\":\"histogram2dcontour\",\"colorbar\":{\"outlinewidth\":0,\"ticks\":\"\"},\"colorscale\":[[0.0,\"#0d0887\"],[0.1111111111111111,\"#46039f\"],[0.2222222222222222,\"#7201a8\"],[0.3333333333333333,\"#9c179e\"],[0.4444444444444444,\"#bd3786\"],[0.5555555555555556,\"#d8576b\"],[0.6666666666666666,\"#ed7953\"],[0.7777777777777778,\"#fb9f3a\"],[0.8888888888888888,\"#fdca26\"],[1.0,\"#f0f921\"]]}],\"choropleth\":[{\"type\":\"choropleth\",\"colorbar\":{\"outlinewidth\":0,\"ticks\":\"\"}}],\"histogram2d\":[{\"type\":\"histogram2d\",\"colorbar\":{\"outlinewidth\":0,\"ticks\":\"\"},\"colorscale\":[[0.0,\"#0d0887\"],[0.1111111111111111,\"#46039f\"],[0.2222222222222222,\"#7201a8\"],[0.3333333333333333,\"#9c179e\"],[0.4444444444444444,\"#bd3786\"],[0.5555555555555556,\"#d8576b\"],[0.6666666666666666,\"#ed7953\"],[0.7777777777777778,\"#fb9f3a\"],[0.8888888888888888,\"#fdca26\"],[1.0,\"#f0f921\"]]}],\"heatmap\":[{\"type\":\"heatmap\",\"colorbar\":{\"outlinewidth\":0,\"ticks\":\"\"},\"colorscale\":[[0.0,\"#0d0887\"],[0.1111111111111111,\"#46039f\"],[0.2222222222222222,\"#7201a8\"],[0.3333333333333333,\"#9c179e\"],[0.4444444444444444,\"#bd3786\"],[0.5555555555555556,\"#d8576b\"],[0.6666666666666666,\"#ed7953\"],[0.7777777777777778,\"#fb9f3a\"],[0.8888888888888888,\"#fdca26\"],[1.0,\"#f0f921\"]]}],\"heatmapgl\":[{\"type\":\"heatmapgl\",\"colorbar\":{\"outlinewidth\":0,\"ticks\":\"\"},\"colorscale\":[[0.0,\"#0d0887\"],[0.1111111111111111,\"#46039f\"],[0.2222222222222222,\"#7201a8\"],[0.3333333333333333,\"#9c179e\"],[0.4444444444444444,\"#bd3786\"],[0.5555555555555556,\"#d8576b\"],[0.6666666666666666,\"#ed7953\"],[0.7777777777777778,\"#fb9f3a\"],[0.8888888888888888,\"#fdca26\"],[1.0,\"#f0f921\"]]}],\"contourcarpet\":[{\"type\":\"contourcarpet\",\"colorbar\":{\"outlinewidth\":0,\"ticks\":\"\"}}],\"contour\":[{\"type\":\"contour\",\"colorbar\":{\"outlinewidth\":0,\"ticks\":\"\"},\"colorscale\":[[0.0,\"#0d0887\"],[0.1111111111111111,\"#46039f\"],[0.2222222222222222,\"#7201a8\"],[0.3333333333333333,\"#9c179e\"],[0.4444444444444444,\"#bd3786\"],[0.5555555555555556,\"#d8576b\"],[0.6666666666666666,\"#ed7953\"],[0.7777777777777778,\"#fb9f3a\"],[0.8888888888888888,\"#fdca26\"],[1.0,\"#f0f921\"]]}],\"surface\":[{\"type\":\"surface\",\"colorbar\":{\"outlinewidth\":0,\"ticks\":\"\"},\"colorscale\":[[0.0,\"#0d0887\"],[0.1111111111111111,\"#46039f\"],[0.2222222222222222,\"#7201a8\"],[0.3333333333333333,\"#9c179e\"],[0.4444444444444444,\"#bd3786\"],[0.5555555555555556,\"#d8576b\"],[0.6666666666666666,\"#ed7953\"],[0.7777777777777778,\"#fb9f3a\"],[0.8888888888888888,\"#fdca26\"],[1.0,\"#f0f921\"]]}],\"mesh3d\":[{\"type\":\"mesh3d\",\"colorbar\":{\"outlinewidth\":0,\"ticks\":\"\"}}],\"scatter\":[{\"fillpattern\":{\"fillmode\":\"overlay\",\"size\":10,\"solidity\":0.2},\"type\":\"scatter\"}],\"parcoords\":[{\"type\":\"parcoords\",\"line\":{\"colorbar\":{\"outlinewidth\":0,\"ticks\":\"\"}}}],\"scatterpolargl\":[{\"type\":\"scatterpolargl\",\"marker\":{\"colorbar\":{\"outlinewidth\":0,\"ticks\":\"\"}}}],\"bar\":[{\"error_x\":{\"color\":\"#2a3f5f\"},\"error_y\":{\"color\":\"#2a3f5f\"},\"marker\":{\"line\":{\"color\":\"#E5ECF6\",\"width\":0.5},\"pattern\":{\"fillmode\":\"overlay\",\"size\":10,\"solidity\":0.2}},\"type\":\"bar\"}],\"scattergeo\":[{\"type\":\"scattergeo\",\"marker\":{\"colorbar\":{\"outlinewidth\":0,\"ticks\":\"\"}}}],\"scatterpolar\":[{\"type\":\"scatterpolar\",\"marker\":{\"colorbar\":{\"outlinewidth\":0,\"ticks\":\"\"}}}],\"histogram\":[{\"marker\":{\"pattern\":{\"fillmode\":\"overlay\",\"size\":10,\"solidity\":0.2}},\"type\":\"histogram\"}],\"scattergl\":[{\"type\":\"scattergl\",\"marker\":{\"colorbar\":{\"outlinewidth\":0,\"ticks\":\"\"}}}],\"scatter3d\":[{\"type\":\"scatter3d\",\"line\":{\"colorbar\":{\"outlinewidth\":0,\"ticks\":\"\"}},\"marker\":{\"colorbar\":{\"outlinewidth\":0,\"ticks\":\"\"}}}],\"scattermapbox\":[{\"type\":\"scattermapbox\",\"marker\":{\"colorbar\":{\"outlinewidth\":0,\"ticks\":\"\"}}}],\"scatterternary\":[{\"type\":\"scatterternary\",\"marker\":{\"colorbar\":{\"outlinewidth\":0,\"ticks\":\"\"}}}],\"scattercarpet\":[{\"type\":\"scattercarpet\",\"marker\":{\"colorbar\":{\"outlinewidth\":0,\"ticks\":\"\"}}}],\"carpet\":[{\"aaxis\":{\"endlinecolor\":\"#2a3f5f\",\"gridcolor\":\"white\",\"linecolor\":\"white\",\"minorgridcolor\":\"white\",\"startlinecolor\":\"#2a3f5f\"},\"baxis\":{\"endlinecolor\":\"#2a3f5f\",\"gridcolor\":\"white\",\"linecolor\":\"white\",\"minorgridcolor\":\"white\",\"startlinecolor\":\"#2a3f5f\"},\"type\":\"carpet\"}],\"table\":[{\"cells\":{\"fill\":{\"color\":\"#EBF0F8\"},\"line\":{\"color\":\"white\"}},\"header\":{\"fill\":{\"color\":\"#C8D4E3\"},\"line\":{\"color\":\"white\"}},\"type\":\"table\"}],\"barpolar\":[{\"marker\":{\"line\":{\"color\":\"#E5ECF6\",\"width\":0.5},\"pattern\":{\"fillmode\":\"overlay\",\"size\":10,\"solidity\":0.2}},\"type\":\"barpolar\"}],\"pie\":[{\"automargin\":true,\"type\":\"pie\"}]},\"layout\":{\"autotypenumbers\":\"strict\",\"colorway\":[\"#636efa\",\"#EF553B\",\"#00cc96\",\"#ab63fa\",\"#FFA15A\",\"#19d3f3\",\"#FF6692\",\"#B6E880\",\"#FF97FF\",\"#FECB52\"],\"font\":{\"color\":\"#2a3f5f\"},\"hovermode\":\"closest\",\"hoverlabel\":{\"align\":\"left\"},\"paper_bgcolor\":\"white\",\"plot_bgcolor\":\"#E5ECF6\",\"polar\":{\"bgcolor\":\"#E5ECF6\",\"angularaxis\":{\"gridcolor\":\"white\",\"linecolor\":\"white\",\"ticks\":\"\"},\"radialaxis\":{\"gridcolor\":\"white\",\"linecolor\":\"white\",\"ticks\":\"\"}},\"ternary\":{\"bgcolor\":\"#E5ECF6\",\"aaxis\":{\"gridcolor\":\"white\",\"linecolor\":\"white\",\"ticks\":\"\"},\"baxis\":{\"gridcolor\":\"white\",\"linecolor\":\"white\",\"ticks\":\"\"},\"caxis\":{\"gridcolor\":\"white\",\"linecolor\":\"white\",\"ticks\":\"\"}},\"coloraxis\":{\"colorbar\":{\"outlinewidth\":0,\"ticks\":\"\"}},\"colorscale\":{\"sequential\":[[0.0,\"#0d0887\"],[0.1111111111111111,\"#46039f\"],[0.2222222222222222,\"#7201a8\"],[0.3333333333333333,\"#9c179e\"],[0.4444444444444444,\"#bd3786\"],[0.5555555555555556,\"#d8576b\"],[0.6666666666666666,\"#ed7953\"],[0.7777777777777778,\"#fb9f3a\"],[0.8888888888888888,\"#fdca26\"],[1.0,\"#f0f921\"]],\"sequentialminus\":[[0.0,\"#0d0887\"],[0.1111111111111111,\"#46039f\"],[0.2222222222222222,\"#7201a8\"],[0.3333333333333333,\"#9c179e\"],[0.4444444444444444,\"#bd3786\"],[0.5555555555555556,\"#d8576b\"],[0.6666666666666666,\"#ed7953\"],[0.7777777777777778,\"#fb9f3a\"],[0.8888888888888888,\"#fdca26\"],[1.0,\"#f0f921\"]],\"diverging\":[[0,\"#8e0152\"],[0.1,\"#c51b7d\"],[0.2,\"#de77ae\"],[0.3,\"#f1b6da\"],[0.4,\"#fde0ef\"],[0.5,\"#f7f7f7\"],[0.6,\"#e6f5d0\"],[0.7,\"#b8e186\"],[0.8,\"#7fbc41\"],[0.9,\"#4d9221\"],[1,\"#276419\"]]},\"xaxis\":{\"gridcolor\":\"white\",\"linecolor\":\"white\",\"ticks\":\"\",\"title\":{\"standoff\":15},\"zerolinecolor\":\"white\",\"automargin\":true,\"zerolinewidth\":2},\"yaxis\":{\"gridcolor\":\"white\",\"linecolor\":\"white\",\"ticks\":\"\",\"title\":{\"standoff\":15},\"zerolinecolor\":\"white\",\"automargin\":true,\"zerolinewidth\":2},\"scene\":{\"xaxis\":{\"backgroundcolor\":\"#E5ECF6\",\"gridcolor\":\"white\",\"linecolor\":\"white\",\"showbackground\":true,\"ticks\":\"\",\"zerolinecolor\":\"white\",\"gridwidth\":2},\"yaxis\":{\"backgroundcolor\":\"#E5ECF6\",\"gridcolor\":\"white\",\"linecolor\":\"white\",\"showbackground\":true,\"ticks\":\"\",\"zerolinecolor\":\"white\",\"gridwidth\":2},\"zaxis\":{\"backgroundcolor\":\"#E5ECF6\",\"gridcolor\":\"white\",\"linecolor\":\"white\",\"showbackground\":true,\"ticks\":\"\",\"zerolinecolor\":\"white\",\"gridwidth\":2}},\"shapedefaults\":{\"line\":{\"color\":\"#2a3f5f\"}},\"annotationdefaults\":{\"arrowcolor\":\"#2a3f5f\",\"arrowhead\":0,\"arrowwidth\":1},\"geo\":{\"bgcolor\":\"white\",\"landcolor\":\"#E5ECF6\",\"subunitcolor\":\"white\",\"showland\":true,\"showlakes\":true,\"lakecolor\":\"white\"},\"title\":{\"x\":0.05},\"mapbox\":{\"style\":\"light\"}}},\"polar\":{\"domain\":{\"x\":[0.0,1.0],\"y\":[0.0,1.0]},\"angularaxis\":{\"direction\":\"clockwise\",\"rotation\":90}},\"legend\":{\"tracegroupgap\":0},\"title\":{\"text\":\"Churn_Rate(%) by Industry\"},\"barmode\":\"relative\"},                        {\"responsive\": true}                    ).then(function(){\n",
       "                            \n",
       "var gd = document.getElementById('9c97f8c7-7a7a-48d1-93a5-665647ac514d');\n",
       "var x = new MutationObserver(function (mutations, observer) {{\n",
       "        var display = window.getComputedStyle(gd).display;\n",
       "        if (!display || display === 'none') {{\n",
       "            console.log([gd, 'removed!']);\n",
       "            Plotly.purge(gd);\n",
       "            observer.disconnect();\n",
       "        }}\n",
       "}});\n",
       "\n",
       "// Listen for the removal of the full notebook cells\n",
       "var notebookContainer = gd.closest('#notebook-container');\n",
       "if (notebookContainer) {{\n",
       "    x.observe(notebookContainer, {childList: true});\n",
       "}}\n",
       "\n",
       "// Listen for the clearing of the current output cell\n",
       "var outputEl = gd.closest('.output');\n",
       "if (outputEl) {{\n",
       "    x.observe(outputEl, {childList: true});\n",
       "}}\n",
       "\n",
       "                        })                };                });            </script>        </div>"
      ]
     },
     "metadata": {},
     "output_type": "display_data"
    }
   ],
   "source": [
    "import plotly.express as px\n",
    "fig = px.bar_polar(churn_yes, r='churn', theta='sub_group', \n",
    "                  title='Churn_Rate(%) by Industry')\n",
    "fig.show()\n"
   ]
  },
  {
   "cell_type": "code",
   "execution_count": null,
   "id": "368c2814",
   "metadata": {},
   "outputs": [],
   "source": []
  },
  {
   "cell_type": "code",
   "execution_count": 227,
   "id": "48af4c83",
   "metadata": {},
   "outputs": [],
   "source": [
    "churn_yes = churn_yes.reset_index()"
   ]
  },
  {
   "cell_type": "markdown",
   "id": "da5f9034",
   "metadata": {},
   "source": [
    "#### Mean Processing Time"
   ]
  },
  {
   "cell_type": "code",
   "execution_count": 246,
   "id": "ceed866c",
   "metadata": {},
   "outputs": [
    {
     "name": "stderr",
     "output_type": "stream",
     "text": [
      "C:\\Users\\USER\\AppData\\Local\\Temp\\ipykernel_3568\\974118832.py:1: SettingWithCopyWarning:\n",
      "\n",
      "\n",
      "A value is trying to be set on a copy of a slice from a DataFrame.\n",
      "Try using .loc[row_indexer,col_indexer] = value instead\n",
      "\n",
      "See the caveats in the documentation: https://pandas.pydata.org/pandas-docs/stable/user_guide/indexing.html#returning-a-view-versus-a-copy\n",
      "\n"
     ]
    }
   ],
   "source": [
    "transaction_subset['week'] = transaction_subset['created'].dt.isocalendar().week"
   ]
  },
  {
   "cell_type": "code",
   "execution_count": 271,
   "id": "7f324cd6",
   "metadata": {
    "slideshow": {
     "slide_type": "slide"
    }
   },
   "outputs": [
    {
     "data": {
      "text/plain": [
       "Text(0.5, 1.0, ' Mean processing times per week of the Year')"
      ]
     },
     "execution_count": 271,
     "metadata": {},
     "output_type": "execute_result"
    },
    {
     "data": {
      "image/png": "[encoded data removed]",
      "text/plain": [
       "<Figure size 640x480 with 1 Axes>"
      ]
     },
     "metadata": {},
     "output_type": "display_data"
    }
   ],
   "source": [
    "df = transaction_subset.groupby('week')['processing_time'].mean().reset_index()\n",
    "#create line plot\n",
    "plt.plot(df.week, df.processing_time)\n",
    "mean_process = np.nanmean(df.processing_time)\n",
    "#add horizontal line at mean value of y\n",
    "plt.axhline(y=np.nanmean(df.processing_time),color= 'red',label='weekly process')\n",
    "plt.ylabel('Processing Times')\n",
    "plt.xlabel('week number')\n",
    "plt.title(' Mean processing times per week of the Year')"
   ]
  },
  {
   "cell_type": "code",
   "execution_count": 1,
   "id": "a915efb6",
   "metadata": {},
   "outputs": [
    {
     "name": "stderr",
     "output_type": "stream",
     "text": [
      "[NbConvertApp] Converting notebook Lawrence_Tech_Assessment.ipynb to slides\n",
      "[NbConvertApp] Writing 846470 bytes to Lawrence_Tech_Assessment.slides.html\n",
      "[NbConvertApp] Redirecting reveal.js requests to https://cdnjs.cloudflare.com/ajax/libs/reveal.js/3.5.0\n",
      "Traceback (most recent call last):\n",
      "  File \"C:\\Users\\USER\\anaconda3\\Scripts\\jupyter-nbconvert-script.py\", line 10, in <module>\n",
      "    sys.exit(main())\n",
      "  File \"C:\\Users\\USER\\anaconda3\\lib\\site-packages\\jupyter_core\\application.py\", line 269, in launch_instance\n",
      "    return super().launch_instance(argv=argv, **kwargs)\n",
      "  File \"C:\\Users\\USER\\anaconda3\\lib\\site-packages\\traitlets\\config\\application.py\", line 846, in launch_instance\n",
      "    app.start()\n",
      "  File \"C:\\Users\\USER\\anaconda3\\lib\\site-packages\\nbconvert\\nbconvertapp.py\", line 369, in start\n",
      "    self.convert_notebooks()\n",
      "  File \"C:\\Users\\USER\\anaconda3\\lib\\site-packages\\nbconvert\\nbconvertapp.py\", line 541, in convert_notebooks\n",
      "    self.convert_single_notebook(notebook_filename)\n",
      "  File \"C:\\Users\\USER\\anaconda3\\lib\\site-packages\\nbconvert\\nbconvertapp.py\", line 508, in convert_single_notebook\n",
      "    self.postprocess_single_notebook(write_results)\n",
      "  File \"C:\\Users\\USER\\anaconda3\\lib\\site-packages\\nbconvert\\nbconvertapp.py\", line 480, in postprocess_single_notebook\n",
      "    self.postprocessor(write_results)\n",
      "  File \"C:\\Users\\USER\\anaconda3\\lib\\site-packages\\nbconvert\\postprocessors\\base.py\", line 28, in __call__\n",
      "    self.postprocess(input)\n",
      "  File \"C:\\Users\\USER\\anaconda3\\lib\\site-packages\\nbconvert\\postprocessors\\serve.py\", line 90, in postprocess\n",
      "    http_server.listen(self.port, address=self.ip)\n",
      "  File \"C:\\Users\\USER\\anaconda3\\lib\\site-packages\\tornado\\tcpserver.py\", line 151, in listen\n",
      "    sockets = bind_sockets(port, address=address)\n",
      "  File \"C:\\Users\\USER\\anaconda3\\lib\\site-packages\\tornado\\netutil.py\", line 161, in bind_sockets\n",
      "    sock.bind(sockaddr)\n",
      "OSError: [WinError 10048] Only one usage of each socket address (protocol/network address/port) is normally permitted\n"
     ]
    }
   ],
   "source": [
    "!jupyter nbconvert Lawrence_Tech_Assessment.ipynb --to slides --post serve --no-input --no-prompt"
   ]
  },
  {
   "cell_type": "code",
   "execution_count": 268,
   "id": "c32ba0f0",
   "metadata": {},
   "outputs": [
    {
     "data": {
      "text/plain": [
       "21.14161155246337"
      ]
     },
     "execution_count": 268,
     "metadata": {},
     "output_type": "execute_result"
    }
   ],
   "source": [
    "np.nanmean(df.processing_time)"
   ]
  },
  {
   "cell_type": "code",
   "execution_count": 262,
   "id": "cf162c45",
   "metadata": {},
   "outputs": [
    {
     "data": {
      "text/html": [
       "<div>\n",
       "<style scoped>\n",
       "    .dataframe tbody tr th:only-of-type {\n",
       "        vertical-align: middle;\n",
       "    }\n",
       "\n",
       "    .dataframe tbody tr th {\n",
       "        vertical-align: top;\n",
       "    }\n",
       "\n",
       "    .dataframe thead th {\n",
       "        text-align: right;\n",
       "    }\n",
       "</style>\n",
       "<table border=\"1\" class=\"dataframe\">\n",
       "  <thead>\n",
       "    <tr style=\"text-align: right;\">\n",
       "      <th></th>\n",
       "      <th>week</th>\n",
       "      <th>processing_time</th>\n",
       "    </tr>\n",
       "  </thead>\n",
       "  <tbody>\n",
       "    <tr>\n",
       "      <th>0</th>\n",
       "      <td>1</td>\n",
       "      <td>23.919693</td>\n",
       "    </tr>\n",
       "    <tr>\n",
       "      <th>1</th>\n",
       "      <td>2</td>\n",
       "      <td>23.919693</td>\n",
       "    </tr>\n",
       "    <tr>\n",
       "      <th>2</th>\n",
       "      <td>3</td>\n",
       "      <td>23.919693</td>\n",
       "    </tr>\n",
       "    <tr>\n",
       "      <th>3</th>\n",
       "      <td>4</td>\n",
       "      <td>23.919693</td>\n",
       "    </tr>\n",
       "    <tr>\n",
       "      <th>4</th>\n",
       "      <td>5</td>\n",
       "      <td>22.327211</td>\n",
       "    </tr>\n",
       "    <tr>\n",
       "      <th>5</th>\n",
       "      <td>6</td>\n",
       "      <td>21.704979</td>\n",
       "    </tr>\n",
       "    <tr>\n",
       "      <th>6</th>\n",
       "      <td>7</td>\n",
       "      <td>18.738336</td>\n",
       "    </tr>\n",
       "    <tr>\n",
       "      <th>7</th>\n",
       "      <td>8</td>\n",
       "      <td>20.873801</td>\n",
       "    </tr>\n",
       "    <tr>\n",
       "      <th>8</th>\n",
       "      <td>9</td>\n",
       "      <td>20.413234</td>\n",
       "    </tr>\n",
       "    <tr>\n",
       "      <th>9</th>\n",
       "      <td>10</td>\n",
       "      <td>16.892948</td>\n",
       "    </tr>\n",
       "    <tr>\n",
       "      <th>10</th>\n",
       "      <td>11</td>\n",
       "      <td>16.579950</td>\n",
       "    </tr>\n",
       "    <tr>\n",
       "      <th>11</th>\n",
       "      <td>12</td>\n",
       "      <td>17.708370</td>\n",
       "    </tr>\n",
       "    <tr>\n",
       "      <th>12</th>\n",
       "      <td>13</td>\n",
       "      <td>18.548277</td>\n",
       "    </tr>\n",
       "    <tr>\n",
       "      <th>13</th>\n",
       "      <td>14</td>\n",
       "      <td>16.436533</td>\n",
       "    </tr>\n",
       "    <tr>\n",
       "      <th>14</th>\n",
       "      <td>15</td>\n",
       "      <td>16.512729</td>\n",
       "    </tr>\n",
       "    <tr>\n",
       "      <th>15</th>\n",
       "      <td>16</td>\n",
       "      <td>18.543813</td>\n",
       "    </tr>\n",
       "    <tr>\n",
       "      <th>16</th>\n",
       "      <td>17</td>\n",
       "      <td>16.432564</td>\n",
       "    </tr>\n",
       "    <tr>\n",
       "      <th>17</th>\n",
       "      <td>18</td>\n",
       "      <td>15.430879</td>\n",
       "    </tr>\n",
       "    <tr>\n",
       "      <th>18</th>\n",
       "      <td>19</td>\n",
       "      <td>18.138596</td>\n",
       "    </tr>\n",
       "    <tr>\n",
       "      <th>19</th>\n",
       "      <td>20</td>\n",
       "      <td>17.364399</td>\n",
       "    </tr>\n",
       "    <tr>\n",
       "      <th>20</th>\n",
       "      <td>21</td>\n",
       "      <td>17.984005</td>\n",
       "    </tr>\n",
       "    <tr>\n",
       "      <th>21</th>\n",
       "      <td>22</td>\n",
       "      <td>20.274408</td>\n",
       "    </tr>\n",
       "    <tr>\n",
       "      <th>22</th>\n",
       "      <td>23</td>\n",
       "      <td>19.844449</td>\n",
       "    </tr>\n",
       "    <tr>\n",
       "      <th>23</th>\n",
       "      <td>24</td>\n",
       "      <td>17.013665</td>\n",
       "    </tr>\n",
       "    <tr>\n",
       "      <th>24</th>\n",
       "      <td>25</td>\n",
       "      <td>21.272198</td>\n",
       "    </tr>\n",
       "    <tr>\n",
       "      <th>25</th>\n",
       "      <td>26</td>\n",
       "      <td>17.803151</td>\n",
       "    </tr>\n",
       "    <tr>\n",
       "      <th>26</th>\n",
       "      <td>27</td>\n",
       "      <td>17.039554</td>\n",
       "    </tr>\n",
       "    <tr>\n",
       "      <th>27</th>\n",
       "      <td>28</td>\n",
       "      <td>29.457557</td>\n",
       "    </tr>\n",
       "    <tr>\n",
       "      <th>28</th>\n",
       "      <td>29</td>\n",
       "      <td>20.029205</td>\n",
       "    </tr>\n",
       "    <tr>\n",
       "      <th>29</th>\n",
       "      <td>30</td>\n",
       "      <td>17.918990</td>\n",
       "    </tr>\n",
       "    <tr>\n",
       "      <th>30</th>\n",
       "      <td>31</td>\n",
       "      <td>17.335178</td>\n",
       "    </tr>\n",
       "    <tr>\n",
       "      <th>31</th>\n",
       "      <td>32</td>\n",
       "      <td>20.991107</td>\n",
       "    </tr>\n",
       "    <tr>\n",
       "      <th>32</th>\n",
       "      <td>33</td>\n",
       "      <td>21.736231</td>\n",
       "    </tr>\n",
       "    <tr>\n",
       "      <th>33</th>\n",
       "      <td>34</td>\n",
       "      <td>18.200107</td>\n",
       "    </tr>\n",
       "    <tr>\n",
       "      <th>34</th>\n",
       "      <td>35</td>\n",
       "      <td>18.064242</td>\n",
       "    </tr>\n",
       "    <tr>\n",
       "      <th>35</th>\n",
       "      <td>36</td>\n",
       "      <td>18.820486</td>\n",
       "    </tr>\n",
       "    <tr>\n",
       "      <th>36</th>\n",
       "      <td>37</td>\n",
       "      <td>19.419365</td>\n",
       "    </tr>\n",
       "    <tr>\n",
       "      <th>37</th>\n",
       "      <td>38</td>\n",
       "      <td>18.874354</td>\n",
       "    </tr>\n",
       "    <tr>\n",
       "      <th>38</th>\n",
       "      <td>39</td>\n",
       "      <td>28.191640</td>\n",
       "    </tr>\n",
       "    <tr>\n",
       "      <th>39</th>\n",
       "      <td>40</td>\n",
       "      <td>20.837595</td>\n",
       "    </tr>\n",
       "    <tr>\n",
       "      <th>40</th>\n",
       "      <td>41</td>\n",
       "      <td>23.447585</td>\n",
       "    </tr>\n",
       "    <tr>\n",
       "      <th>41</th>\n",
       "      <td>42</td>\n",
       "      <td>23.191545</td>\n",
       "    </tr>\n",
       "    <tr>\n",
       "      <th>42</th>\n",
       "      <td>43</td>\n",
       "      <td>24.140615</td>\n",
       "    </tr>\n",
       "    <tr>\n",
       "      <th>43</th>\n",
       "      <td>44</td>\n",
       "      <td>22.370199</td>\n",
       "    </tr>\n",
       "    <tr>\n",
       "      <th>44</th>\n",
       "      <td>45</td>\n",
       "      <td>18.383653</td>\n",
       "    </tr>\n",
       "    <tr>\n",
       "      <th>45</th>\n",
       "      <td>46</td>\n",
       "      <td>21.001542</td>\n",
       "    </tr>\n",
       "    <tr>\n",
       "      <th>46</th>\n",
       "      <td>47</td>\n",
       "      <td>18.736376</td>\n",
       "    </tr>\n",
       "    <tr>\n",
       "      <th>47</th>\n",
       "      <td>48</td>\n",
       "      <td>21.949232</td>\n",
       "    </tr>\n",
       "    <tr>\n",
       "      <th>48</th>\n",
       "      <td>49</td>\n",
       "      <td>19.674775</td>\n",
       "    </tr>\n",
       "    <tr>\n",
       "      <th>49</th>\n",
       "      <td>50</td>\n",
       "      <td>17.871420</td>\n",
       "    </tr>\n",
       "    <tr>\n",
       "      <th>50</th>\n",
       "      <td>51</td>\n",
       "      <td>67.123680</td>\n",
       "    </tr>\n",
       "    <tr>\n",
       "      <th>51</th>\n",
       "      <td>52</td>\n",
       "      <td>34.562105</td>\n",
       "    </tr>\n",
       "    <tr>\n",
       "      <th>52</th>\n",
       "      <td>53</td>\n",
       "      <td>18.619807</td>\n",
       "    </tr>\n",
       "  </tbody>\n",
       "</table>\n",
       "</div>"
      ],
      "text/plain": [
       "    week  processing_time\n",
       "0      1        23.919693\n",
       "1      2        23.919693\n",
       "2      3        23.919693\n",
       "3      4        23.919693\n",
       "4      5        22.327211\n",
       "5      6        21.704979\n",
       "6      7        18.738336\n",
       "7      8        20.873801\n",
       "8      9        20.413234\n",
       "9     10        16.892948\n",
       "10    11        16.579950\n",
       "11    12        17.708370\n",
       "12    13        18.548277\n",
       "13    14        16.436533\n",
       "14    15        16.512729\n",
       "15    16        18.543813\n",
       "16    17        16.432564\n",
       "17    18        15.430879\n",
       "18    19        18.138596\n",
       "19    20        17.364399\n",
       "20    21        17.984005\n",
       "21    22        20.274408\n",
       "22    23        19.844449\n",
       "23    24        17.013665\n",
       "24    25        21.272198\n",
       "25    26        17.803151\n",
       "26    27        17.039554\n",
       "27    28        29.457557\n",
       "28    29        20.029205\n",
       "29    30        17.918990\n",
       "30    31        17.335178\n",
       "31    32        20.991107\n",
       "32    33        21.736231\n",
       "33    34        18.200107\n",
       "34    35        18.064242\n",
       "35    36        18.820486\n",
       "36    37        19.419365\n",
       "37    38        18.874354\n",
       "38    39        28.191640\n",
       "39    40        20.837595\n",
       "40    41        23.447585\n",
       "41    42        23.191545\n",
       "42    43        24.140615\n",
       "43    44        22.370199\n",
       "44    45        18.383653\n",
       "45    46        21.001542\n",
       "46    47        18.736376\n",
       "47    48        21.949232\n",
       "48    49        19.674775\n",
       "49    50        17.871420\n",
       "50    51        67.123680\n",
       "51    52        34.562105\n",
       "52    53        18.619807"
      ]
     },
     "execution_count": 262,
     "metadata": {},
     "output_type": "execute_result"
    }
   ],
   "source": [
    "df\n"
   ]
  },
  {
   "cell_type": "code",
   "execution_count": null,
   "id": "d3af94b1",
   "metadata": {},
   "outputs": [],
   "source": []
  },
  {
   "cell_type": "markdown",
   "id": "b98bf56d",
   "metadata": {},
   "source": [
    "  ### Transaction Approval Rate"
   ]
  },
  {
   "cell_type": "code",
   "execution_count": 273,
   "id": "6fd500fb",
   "metadata": {},
   "outputs": [
    {
     "data": {
      "text/plain": [
       "approved    79.69\n",
       "error       10.53\n",
       "aborted      7.60\n",
       "declined     1.71\n",
       "refunded     0.47\n",
       "created      0.01\n",
       "Name: transaction_state, dtype: float64"
      ]
     },
     "execution_count": 273,
     "metadata": {},
     "output_type": "execute_result"
    }
   ],
   "source": [
    "round(transaction_subset['transaction_state'].value_counts(normalize=True)*100,2)"
   ]
  },
  {
   "cell_type": "markdown",
   "id": "e9cb9924",
   "metadata": {},
   "source": [
    "#### Credit Card Transaction Rate"
   ]
  },
  {
   "cell_type": "code",
   "execution_count": 249,
   "id": "945957c1",
   "metadata": {},
   "outputs": [
    {
     "data": {
      "text/plain": [
       "credit_card    0.949120\n",
       "cash           0.041458\n",
       "refund         0.009422\n",
       "Name: transaction_type, dtype: float64"
      ]
     },
     "execution_count": 249,
     "metadata": {},
     "output_type": "execute_result"
    }
   ],
   "source": [
    "transaction_subset['transaction_type'].value_counts(normalize=True)"
   ]
  },
  {
   "cell_type": "markdown",
   "id": "c5168a02",
   "metadata": {},
   "source": [
    "### Average Transactions per week"
   ]
  },
  {
   "cell_type": "code",
   "execution_count": 250,
   "id": "49a48476",
   "metadata": {},
   "outputs": [
    {
     "data": {
      "text/plain": [
       "2198.4285714285716"
      ]
     },
     "execution_count": 250,
     "metadata": {},
     "output_type": "execute_result"
    }
   ],
   "source": [
    "len(transaction_subset)/7"
   ]
  },
  {
   "cell_type": "code",
   "execution_count": 276,
   "id": "e3d4e31e",
   "metadata": {},
   "outputs": [
    {
     "data": {
      "text/html": [
       "<div>\n",
       "<style scoped>\n",
       "    .dataframe tbody tr th:only-of-type {\n",
       "        vertical-align: middle;\n",
       "    }\n",
       "\n",
       "    .dataframe tbody tr th {\n",
       "        vertical-align: top;\n",
       "    }\n",
       "\n",
       "    .dataframe thead th {\n",
       "        text-align: right;\n",
       "    }\n",
       "</style>\n",
       "<table border=\"1\" class=\"dataframe\">\n",
       "  <thead>\n",
       "    <tr style=\"text-align: right;\">\n",
       "      <th></th>\n",
       "      <th>week</th>\n",
       "      <th>transaction_uuid</th>\n",
       "    </tr>\n",
       "  </thead>\n",
       "  <tbody>\n",
       "    <tr>\n",
       "      <th>0</th>\n",
       "      <td>1</td>\n",
       "      <td>5</td>\n",
       "    </tr>\n",
       "    <tr>\n",
       "      <th>1</th>\n",
       "      <td>2</td>\n",
       "      <td>32</td>\n",
       "    </tr>\n",
       "    <tr>\n",
       "      <th>2</th>\n",
       "      <td>3</td>\n",
       "      <td>32</td>\n",
       "    </tr>\n",
       "    <tr>\n",
       "      <th>3</th>\n",
       "      <td>4</td>\n",
       "      <td>33</td>\n",
       "    </tr>\n",
       "    <tr>\n",
       "      <th>4</th>\n",
       "      <td>5</td>\n",
       "      <td>37</td>\n",
       "    </tr>\n",
       "    <tr>\n",
       "      <th>5</th>\n",
       "      <td>6</td>\n",
       "      <td>40</td>\n",
       "    </tr>\n",
       "    <tr>\n",
       "      <th>6</th>\n",
       "      <td>7</td>\n",
       "      <td>52</td>\n",
       "    </tr>\n",
       "    <tr>\n",
       "      <th>7</th>\n",
       "      <td>8</td>\n",
       "      <td>40</td>\n",
       "    </tr>\n",
       "    <tr>\n",
       "      <th>8</th>\n",
       "      <td>9</td>\n",
       "      <td>23</td>\n",
       "    </tr>\n",
       "    <tr>\n",
       "      <th>9</th>\n",
       "      <td>10</td>\n",
       "      <td>34</td>\n",
       "    </tr>\n",
       "    <tr>\n",
       "      <th>10</th>\n",
       "      <td>11</td>\n",
       "      <td>35</td>\n",
       "    </tr>\n",
       "    <tr>\n",
       "      <th>11</th>\n",
       "      <td>12</td>\n",
       "      <td>23</td>\n",
       "    </tr>\n",
       "    <tr>\n",
       "      <th>12</th>\n",
       "      <td>13</td>\n",
       "      <td>35</td>\n",
       "    </tr>\n",
       "    <tr>\n",
       "      <th>13</th>\n",
       "      <td>14</td>\n",
       "      <td>39</td>\n",
       "    </tr>\n",
       "    <tr>\n",
       "      <th>14</th>\n",
       "      <td>15</td>\n",
       "      <td>57</td>\n",
       "    </tr>\n",
       "    <tr>\n",
       "      <th>15</th>\n",
       "      <td>16</td>\n",
       "      <td>60</td>\n",
       "    </tr>\n",
       "    <tr>\n",
       "      <th>16</th>\n",
       "      <td>17</td>\n",
       "      <td>93</td>\n",
       "    </tr>\n",
       "    <tr>\n",
       "      <th>17</th>\n",
       "      <td>18</td>\n",
       "      <td>101</td>\n",
       "    </tr>\n",
       "    <tr>\n",
       "      <th>18</th>\n",
       "      <td>19</td>\n",
       "      <td>123</td>\n",
       "    </tr>\n",
       "    <tr>\n",
       "      <th>19</th>\n",
       "      <td>20</td>\n",
       "      <td>129</td>\n",
       "    </tr>\n",
       "    <tr>\n",
       "      <th>20</th>\n",
       "      <td>21</td>\n",
       "      <td>114</td>\n",
       "    </tr>\n",
       "    <tr>\n",
       "      <th>21</th>\n",
       "      <td>22</td>\n",
       "      <td>171</td>\n",
       "    </tr>\n",
       "    <tr>\n",
       "      <th>22</th>\n",
       "      <td>23</td>\n",
       "      <td>173</td>\n",
       "    </tr>\n",
       "    <tr>\n",
       "      <th>23</th>\n",
       "      <td>24</td>\n",
       "      <td>222</td>\n",
       "    </tr>\n",
       "    <tr>\n",
       "      <th>24</th>\n",
       "      <td>25</td>\n",
       "      <td>209</td>\n",
       "    </tr>\n",
       "    <tr>\n",
       "      <th>25</th>\n",
       "      <td>26</td>\n",
       "      <td>213</td>\n",
       "    </tr>\n",
       "    <tr>\n",
       "      <th>26</th>\n",
       "      <td>27</td>\n",
       "      <td>230</td>\n",
       "    </tr>\n",
       "    <tr>\n",
       "      <th>27</th>\n",
       "      <td>28</td>\n",
       "      <td>202</td>\n",
       "    </tr>\n",
       "    <tr>\n",
       "      <th>28</th>\n",
       "      <td>29</td>\n",
       "      <td>242</td>\n",
       "    </tr>\n",
       "    <tr>\n",
       "      <th>29</th>\n",
       "      <td>30</td>\n",
       "      <td>270</td>\n",
       "    </tr>\n",
       "    <tr>\n",
       "      <th>30</th>\n",
       "      <td>31</td>\n",
       "      <td>318</td>\n",
       "    </tr>\n",
       "    <tr>\n",
       "      <th>31</th>\n",
       "      <td>32</td>\n",
       "      <td>375</td>\n",
       "    </tr>\n",
       "    <tr>\n",
       "      <th>32</th>\n",
       "      <td>33</td>\n",
       "      <td>309</td>\n",
       "    </tr>\n",
       "    <tr>\n",
       "      <th>33</th>\n",
       "      <td>34</td>\n",
       "      <td>320</td>\n",
       "    </tr>\n",
       "    <tr>\n",
       "      <th>34</th>\n",
       "      <td>35</td>\n",
       "      <td>383</td>\n",
       "    </tr>\n",
       "    <tr>\n",
       "      <th>35</th>\n",
       "      <td>36</td>\n",
       "      <td>396</td>\n",
       "    </tr>\n",
       "    <tr>\n",
       "      <th>36</th>\n",
       "      <td>37</td>\n",
       "      <td>396</td>\n",
       "    </tr>\n",
       "    <tr>\n",
       "      <th>37</th>\n",
       "      <td>38</td>\n",
       "      <td>305</td>\n",
       "    </tr>\n",
       "    <tr>\n",
       "      <th>38</th>\n",
       "      <td>39</td>\n",
       "      <td>483</td>\n",
       "    </tr>\n",
       "    <tr>\n",
       "      <th>39</th>\n",
       "      <td>40</td>\n",
       "      <td>499</td>\n",
       "    </tr>\n",
       "    <tr>\n",
       "      <th>40</th>\n",
       "      <td>41</td>\n",
       "      <td>545</td>\n",
       "    </tr>\n",
       "    <tr>\n",
       "      <th>41</th>\n",
       "      <td>42</td>\n",
       "      <td>485</td>\n",
       "    </tr>\n",
       "    <tr>\n",
       "      <th>42</th>\n",
       "      <td>43</td>\n",
       "      <td>561</td>\n",
       "    </tr>\n",
       "    <tr>\n",
       "      <th>43</th>\n",
       "      <td>44</td>\n",
       "      <td>594</td>\n",
       "    </tr>\n",
       "    <tr>\n",
       "      <th>44</th>\n",
       "      <td>45</td>\n",
       "      <td>647</td>\n",
       "    </tr>\n",
       "    <tr>\n",
       "      <th>45</th>\n",
       "      <td>46</td>\n",
       "      <td>588</td>\n",
       "    </tr>\n",
       "    <tr>\n",
       "      <th>46</th>\n",
       "      <td>47</td>\n",
       "      <td>662</td>\n",
       "    </tr>\n",
       "    <tr>\n",
       "      <th>47</th>\n",
       "      <td>48</td>\n",
       "      <td>844</td>\n",
       "    </tr>\n",
       "    <tr>\n",
       "      <th>48</th>\n",
       "      <td>49</td>\n",
       "      <td>835</td>\n",
       "    </tr>\n",
       "    <tr>\n",
       "      <th>49</th>\n",
       "      <td>50</td>\n",
       "      <td>801</td>\n",
       "    </tr>\n",
       "    <tr>\n",
       "      <th>50</th>\n",
       "      <td>51</td>\n",
       "      <td>959</td>\n",
       "    </tr>\n",
       "    <tr>\n",
       "      <th>51</th>\n",
       "      <td>52</td>\n",
       "      <td>684</td>\n",
       "    </tr>\n",
       "    <tr>\n",
       "      <th>52</th>\n",
       "      <td>53</td>\n",
       "      <td>331</td>\n",
       "    </tr>\n",
       "  </tbody>\n",
       "</table>\n",
       "</div>"
      ],
      "text/plain": [
       "    week  transaction_uuid\n",
       "0      1                 5\n",
       "1      2                32\n",
       "2      3                32\n",
       "3      4                33\n",
       "4      5                37\n",
       "5      6                40\n",
       "6      7                52\n",
       "7      8                40\n",
       "8      9                23\n",
       "9     10                34\n",
       "10    11                35\n",
       "11    12                23\n",
       "12    13                35\n",
       "13    14                39\n",
       "14    15                57\n",
       "15    16                60\n",
       "16    17                93\n",
       "17    18               101\n",
       "18    19               123\n",
       "19    20               129\n",
       "20    21               114\n",
       "21    22               171\n",
       "22    23               173\n",
       "23    24               222\n",
       "24    25               209\n",
       "25    26               213\n",
       "26    27               230\n",
       "27    28               202\n",
       "28    29               242\n",
       "29    30               270\n",
       "30    31               318\n",
       "31    32               375\n",
       "32    33               309\n",
       "33    34               320\n",
       "34    35               383\n",
       "35    36               396\n",
       "36    37               396\n",
       "37    38               305\n",
       "38    39               483\n",
       "39    40               499\n",
       "40    41               545\n",
       "41    42               485\n",
       "42    43               561\n",
       "43    44               594\n",
       "44    45               647\n",
       "45    46               588\n",
       "46    47               662\n",
       "47    48               844\n",
       "48    49               835\n",
       "49    50               801\n",
       "50    51               959\n",
       "51    52               684\n",
       "52    53               331"
      ]
     },
     "execution_count": 276,
     "metadata": {},
     "output_type": "execute_result"
    }
   ],
   "source": [
    "df = transaction_subset.groupby('week')['transaction_uuid'].count().reset_index()\n",
    "df"
   ]
  },
  {
   "cell_type": "code",
   "execution_count": 279,
   "id": "842dc51a",
   "metadata": {},
   "outputs": [
    {
     "data": {
      "text/plain": [
       "Text(0.5, 1.0, ' Number of weekly transactions per year')"
      ]
     },
     "execution_count": 279,
     "metadata": {},
     "output_type": "execute_result"
    },
    {
     "data": {
      "image/png": "[encoded data removed]",
      "text/plain": [
       "<Figure size 640x480 with 1 Axes>"
      ]
     },
     "metadata": {},
     "output_type": "display_data"
    }
   ],
   "source": [
    "#create line plot\n",
    "plt.plot(df.week, df.transaction_uuid)\n",
    "mean_process = np.nanmean(df.transaction_uuid)\n",
    "#add horizontal line at mean value of y\n",
    "plt.axhline(y=np.nanmean(df.transaction_uuid),color= 'red',label='weekly process')\n",
    "plt.ylabel('No of Transactions')\n",
    "plt.xlabel('week number')\n",
    "plt.title(' Number of weekly transactions per year')"
   ]
  },
  {
   "cell_type": "code",
   "execution_count": 278,
   "id": "277ffee1",
   "metadata": {},
   "outputs": [
    {
     "data": {
      "text/plain": [
       "290.35849056603774"
      ]
     },
     "execution_count": 278,
     "metadata": {},
     "output_type": "execute_result"
    }
   ],
   "source": [
    "np.nanmean(df.transaction_uuid)"
   ]
  },
  {
   "cell_type": "code",
   "execution_count": null,
   "id": "26f5ee73",
   "metadata": {},
   "outputs": [],
   "source": []
  }
 ],
 "metadata": {
  "celltoolbar": "Slideshow",
  "kernelspec": {
   "display_name": "Python 3 (ipykernel)",
   "language": "python",
   "name": "python3"
  },
  "language_info": {
   "codemirror_mode": {
    "name": "ipython",
    "version": 3
   },
   "file_extension": ".py",
   "mimetype": "text/x-python",
   "name": "python",
   "nbconvert_exporter": "python",
   "pygments_lexer": "ipython3",
   "version": "3.9.13"
  }
 },
 "nbformat": 4,
 "nbformat_minor": 5
}
